{
 "cells": [
  {
   "cell_type": "markdown",
   "id": "71e43741",
   "metadata": {},
   "source": [
    "Class: high level classification of real world entity/Skeleton of real world entity\n",
    "e.g. Car: Audi, Mercedize, TATA, Bentle\n",
    "Peoperties: Engine, Tyre, Interior, HP are all the properties"
   ]
  },
  {
   "cell_type": "markdown",
   "id": "fe6221b1",
   "metadata": {},
   "source": [
    "Object: it is the variable"
   ]
  },
  {
   "cell_type": "markdown",
   "id": "bdc33c16",
   "metadata": {},
   "source": [
    "### Object oriented Concept"
   ]
  },
  {
   "cell_type": "code",
   "execution_count": 5,
   "id": "f1cd06e1",
   "metadata": {},
   "outputs": [],
   "source": [
    "i=20"
   ]
  },
  {
   "cell_type": "code",
   "execution_count": 6,
   "id": "8c03aa92",
   "metadata": {},
   "outputs": [
    {
     "data": {
      "text/plain": [
       "20"
      ]
     },
     "execution_count": 6,
     "metadata": {},
     "output_type": "execute_result"
    }
   ],
   "source": [
    "i"
   ]
  },
  {
   "cell_type": "code",
   "execution_count": 7,
   "id": "b8bfbbb5",
   "metadata": {},
   "outputs": [
    {
     "data": {
      "text/plain": [
       "int"
      ]
     },
     "execution_count": 7,
     "metadata": {},
     "output_type": "execute_result"
    }
   ],
   "source": [
    "type(i)"
   ]
  },
  {
   "cell_type": "code",
   "execution_count": 8,
   "id": "9644a05a",
   "metadata": {},
   "outputs": [],
   "source": [
    "s=\"sachin\"\n",
    "l=[]\n",
    "d={}\n",
    "t=()"
   ]
  },
  {
   "cell_type": "code",
   "execution_count": 9,
   "id": "3cfe9c9e",
   "metadata": {},
   "outputs": [
    {
     "data": {
      "text/plain": [
       "str"
      ]
     },
     "execution_count": 9,
     "metadata": {},
     "output_type": "execute_result"
    }
   ],
   "source": [
    "type(s)"
   ]
  },
  {
   "cell_type": "code",
   "execution_count": 10,
   "id": "272f378f",
   "metadata": {},
   "outputs": [
    {
     "data": {
      "text/plain": [
       "list"
      ]
     },
     "execution_count": 10,
     "metadata": {},
     "output_type": "execute_result"
    }
   ],
   "source": [
    "type(l)"
   ]
  },
  {
   "cell_type": "code",
   "execution_count": 11,
   "id": "c8b979fb",
   "metadata": {},
   "outputs": [
    {
     "data": {
      "text/plain": [
       "dict"
      ]
     },
     "execution_count": 11,
     "metadata": {},
     "output_type": "execute_result"
    }
   ],
   "source": [
    "type(d)"
   ]
  },
  {
   "cell_type": "code",
   "execution_count": 12,
   "id": "843f99ac",
   "metadata": {},
   "outputs": [
    {
     "data": {
      "text/plain": [
       "tuple"
      ]
     },
     "execution_count": 12,
     "metadata": {},
     "output_type": "execute_result"
    }
   ],
   "source": [
    "type(t)"
   ]
  },
  {
   "cell_type": "code",
   "execution_count": 13,
   "id": "64e9ebc4",
   "metadata": {},
   "outputs": [
    {
     "data": {
      "text/plain": [
       "dict_keys([])"
      ]
     },
     "execution_count": 13,
     "metadata": {},
     "output_type": "execute_result"
    }
   ],
   "source": [
    "d.keys()"
   ]
  },
  {
   "cell_type": "code",
   "execution_count": 14,
   "id": "0338555c",
   "metadata": {},
   "outputs": [
    {
     "ename": "IndentationError",
     "evalue": "expected an indented block (Temp/ipykernel_884/1236307212.py, line 2)",
     "output_type": "error",
     "traceback": [
      "\u001b[1;36m  File \u001b[1;32m\"C:\\Users\\HP\\AppData\\Local\\Temp/ipykernel_884/1236307212.py\"\u001b[1;36m, line \u001b[1;32m2\u001b[0m\n\u001b[1;33m    \u001b[0m\n\u001b[1;37m    ^\u001b[0m\n\u001b[1;31mIndentationError\u001b[0m\u001b[1;31m:\u001b[0m expected an indented block\n"
     ]
    }
   ],
   "source": [
    "class test:\n",
    "    "
   ]
  },
  {
   "cell_type": "code",
   "execution_count": 15,
   "id": "b0f08f19",
   "metadata": {},
   "outputs": [],
   "source": [
    "class test:\n",
    "    pass"
   ]
  },
  {
   "cell_type": "code",
   "execution_count": 16,
   "id": "6f59d2e1",
   "metadata": {},
   "outputs": [],
   "source": [
    "def my_fun():\n",
    "    pass"
   ]
  },
  {
   "cell_type": "code",
   "execution_count": 17,
   "id": "2ddf5fe7",
   "metadata": {},
   "outputs": [],
   "source": [
    "class person:\n",
    "    pass"
   ]
  },
  {
   "cell_type": "code",
   "execution_count": 18,
   "id": "30099e37",
   "metadata": {},
   "outputs": [],
   "source": [
    "p=person()"
   ]
  },
  {
   "cell_type": "code",
   "execution_count": 19,
   "id": "8b48e9f6",
   "metadata": {},
   "outputs": [
    {
     "data": {
      "text/plain": [
       "<__main__.person at 0x28ffb98c940>"
      ]
     },
     "execution_count": 19,
     "metadata": {},
     "output_type": "execute_result"
    }
   ],
   "source": [
    "p"
   ]
  },
  {
   "cell_type": "code",
   "execution_count": 20,
   "id": "6bc9c95d",
   "metadata": {},
   "outputs": [
    {
     "data": {
      "text/plain": [
       "__main__.person"
      ]
     },
     "execution_count": 20,
     "metadata": {},
     "output_type": "execute_result"
    }
   ],
   "source": [
    "type(p)"
   ]
  },
  {
   "cell_type": "code",
   "execution_count": 21,
   "id": "8ab0df92",
   "metadata": {},
   "outputs": [],
   "source": [
    "p.name=\"Rajan\""
   ]
  },
  {
   "cell_type": "code",
   "execution_count": 22,
   "id": "cf57f044",
   "metadata": {},
   "outputs": [],
   "source": [
    "p.surname=\"Bisen\""
   ]
  },
  {
   "cell_type": "code",
   "execution_count": 23,
   "id": "a7eaa1d6",
   "metadata": {},
   "outputs": [],
   "source": [
    "p.yob=1993"
   ]
  },
  {
   "cell_type": "code",
   "execution_count": 24,
   "id": "e225660c",
   "metadata": {},
   "outputs": [],
   "source": [
    "a=person()"
   ]
  },
  {
   "cell_type": "code",
   "execution_count": 25,
   "id": "a0b4224e",
   "metadata": {},
   "outputs": [],
   "source": [
    "a.name=\"Mansi\""
   ]
  },
  {
   "cell_type": "code",
   "execution_count": 26,
   "id": "27a30e96",
   "metadata": {},
   "outputs": [],
   "source": [
    "a.surname=\"Ambule\""
   ]
  },
  {
   "cell_type": "code",
   "execution_count": 27,
   "id": "fc2c170c",
   "metadata": {},
   "outputs": [],
   "source": [
    "a.yob=1997"
   ]
  },
  {
   "cell_type": "code",
   "execution_count": 28,
   "id": "bd017d24",
   "metadata": {},
   "outputs": [
    {
     "data": {
      "text/plain": [
       "'Rajan'"
      ]
     },
     "execution_count": 28,
     "metadata": {},
     "output_type": "execute_result"
    }
   ],
   "source": [
    "p.name"
   ]
  },
  {
   "cell_type": "code",
   "execution_count": 29,
   "id": "a2b5d9b6",
   "metadata": {},
   "outputs": [
    {
     "data": {
      "text/plain": [
       "'Bisen'"
      ]
     },
     "execution_count": 29,
     "metadata": {},
     "output_type": "execute_result"
    }
   ],
   "source": [
    "p.surname"
   ]
  },
  {
   "cell_type": "code",
   "execution_count": 30,
   "id": "b18e78b9",
   "metadata": {},
   "outputs": [
    {
     "data": {
      "text/plain": [
       "1993"
      ]
     },
     "execution_count": 30,
     "metadata": {},
     "output_type": "execute_result"
    }
   ],
   "source": [
    "p.yob"
   ]
  },
  {
   "cell_type": "code",
   "execution_count": 31,
   "id": "fff15c63",
   "metadata": {},
   "outputs": [
    {
     "data": {
      "text/plain": [
       "'Mansi'"
      ]
     },
     "execution_count": 31,
     "metadata": {},
     "output_type": "execute_result"
    }
   ],
   "source": [
    "a.name"
   ]
  },
  {
   "cell_type": "code",
   "execution_count": 32,
   "id": "4fc0aec1",
   "metadata": {},
   "outputs": [
    {
     "data": {
      "text/plain": [
       "'Ambule'"
      ]
     },
     "execution_count": 32,
     "metadata": {},
     "output_type": "execute_result"
    }
   ],
   "source": [
    "a.surname"
   ]
  },
  {
   "cell_type": "code",
   "execution_count": 33,
   "id": "2697e4a4",
   "metadata": {},
   "outputs": [
    {
     "data": {
      "text/plain": [
       "1997"
      ]
     },
     "execution_count": 33,
     "metadata": {},
     "output_type": "execute_result"
    }
   ],
   "source": [
    "a.yob"
   ]
  },
  {
   "cell_type": "code",
   "execution_count": 34,
   "id": "a94fdde6",
   "metadata": {},
   "outputs": [
    {
     "data": {
      "text/plain": [
       "str"
      ]
     },
     "execution_count": 34,
     "metadata": {},
     "output_type": "execute_result"
    }
   ],
   "source": [
    "type(p.name)"
   ]
  },
  {
   "cell_type": "code",
   "execution_count": 35,
   "id": "40e64a4c",
   "metadata": {},
   "outputs": [
    {
     "data": {
      "text/plain": [
       "int"
      ]
     },
     "execution_count": 35,
     "metadata": {},
     "output_type": "execute_result"
    }
   ],
   "source": [
    "type(p.yob)"
   ]
  },
  {
   "cell_type": "markdown",
   "id": "ee7f9fba",
   "metadata": {},
   "source": [
    "Now start"
   ]
  },
  {
   "cell_type": "code",
   "execution_count": 36,
   "id": "7fedc4e5",
   "metadata": {},
   "outputs": [],
   "source": [
    "class person:\n",
    "    def __init__(self,name,surname,yob):\n",
    "        self.name=name\n",
    "        self.surname=surname\n",
    "        self.yob=yob"
   ]
  },
  {
   "cell_type": "markdown",
   "id": "5358cb57",
   "metadata": {},
   "source": [
    "__init__ is  the method name\n",
    "init means initialization\n",
    "self is the variable/it is not a keyword (referance kind of word)"
   ]
  },
  {
   "cell_type": "code",
   "execution_count": 224,
   "id": "b946f83c",
   "metadata": {},
   "outputs": [
    {
     "ename": "TypeError",
     "evalue": "__init__() missing 3 required positional arguments: 'name', 'surname', and 'yob'",
     "output_type": "error",
     "traceback": [
      "\u001b[1;31m---------------------------------------------------------------------------\u001b[0m",
      "\u001b[1;31mTypeError\u001b[0m                                 Traceback (most recent call last)",
      "\u001b[1;32m~\\AppData\\Local\\Temp/ipykernel_884/3654896267.py\u001b[0m in \u001b[0;36m<module>\u001b[1;34m\u001b[0m\n\u001b[1;32m----> 1\u001b[1;33m \u001b[0mp\u001b[0m\u001b[1;33m=\u001b[0m\u001b[0mperson\u001b[0m\u001b[1;33m(\u001b[0m\u001b[1;33m)\u001b[0m\u001b[1;33m\u001b[0m\u001b[1;33m\u001b[0m\u001b[0m\n\u001b[0m",
      "\u001b[1;31mTypeError\u001b[0m: __init__() missing 3 required positional arguments: 'name', 'surname', and 'yob'"
     ]
    }
   ],
   "source": [
    "p=person()"
   ]
  },
  {
   "cell_type": "code",
   "execution_count": 38,
   "id": "c7d9152d",
   "metadata": {},
   "outputs": [],
   "source": [
    "p=person(\"Mansi\",\"Ambule\",1997)"
   ]
  },
  {
   "cell_type": "code",
   "execution_count": 39,
   "id": "0e651ce7",
   "metadata": {},
   "outputs": [
    {
     "data": {
      "text/plain": [
       "<__main__.person at 0x28ffb98cf70>"
      ]
     },
     "execution_count": 39,
     "metadata": {},
     "output_type": "execute_result"
    }
   ],
   "source": [
    "p"
   ]
  },
  {
   "cell_type": "code",
   "execution_count": 40,
   "id": "184a478b",
   "metadata": {},
   "outputs": [
    {
     "name": "stdout",
     "output_type": "stream",
     "text": [
      "<__main__.person object at 0x0000028FFB98CF70>\n"
     ]
    }
   ],
   "source": [
    "print(p)"
   ]
  },
  {
   "cell_type": "code",
   "execution_count": 41,
   "id": "d2930e05",
   "metadata": {},
   "outputs": [],
   "source": [
    "s=person(\"rajan\",\"bisen\",1993)"
   ]
  },
  {
   "cell_type": "code",
   "execution_count": 42,
   "id": "da12ef0f",
   "metadata": {},
   "outputs": [
    {
     "data": {
      "text/plain": [
       "'rajan'"
      ]
     },
     "execution_count": 42,
     "metadata": {},
     "output_type": "execute_result"
    }
   ],
   "source": [
    "s.name"
   ]
  },
  {
   "cell_type": "code",
   "execution_count": 43,
   "id": "b51139ad",
   "metadata": {},
   "outputs": [
    {
     "data": {
      "text/plain": [
       "'Mansi'"
      ]
     },
     "execution_count": 43,
     "metadata": {},
     "output_type": "execute_result"
    }
   ],
   "source": [
    "p.name"
   ]
  },
  {
   "cell_type": "code",
   "execution_count": 221,
   "id": "83b92894",
   "metadata": {},
   "outputs": [],
   "source": [
    "class person:\n",
    "    def __init__(self,name,surname,yob):\n",
    "        self.name1=name\n",
    "        self.surname1=surname\n",
    "        self.yob1=yob"
   ]
  },
  {
   "cell_type": "code",
   "execution_count": 222,
   "id": "dcf93d58",
   "metadata": {},
   "outputs": [],
   "source": [
    "p=person(\"manu\",\"bisen\",1997)"
   ]
  },
  {
   "cell_type": "code",
   "execution_count": 223,
   "id": "6b0e8c2e",
   "metadata": {},
   "outputs": [
    {
     "ename": "AttributeError",
     "evalue": "'person' object has no attribute 'name'",
     "output_type": "error",
     "traceback": [
      "\u001b[1;31m---------------------------------------------------------------------------\u001b[0m",
      "\u001b[1;31mAttributeError\u001b[0m                            Traceback (most recent call last)",
      "\u001b[1;32m~\\AppData\\Local\\Temp/ipykernel_884/1888443627.py\u001b[0m in \u001b[0;36m<module>\u001b[1;34m\u001b[0m\n\u001b[1;32m----> 1\u001b[1;33m \u001b[0mp\u001b[0m\u001b[1;33m.\u001b[0m\u001b[0mname\u001b[0m\u001b[1;33m\u001b[0m\u001b[1;33m\u001b[0m\u001b[0m\n\u001b[0m",
      "\u001b[1;31mAttributeError\u001b[0m: 'person' object has no attribute 'name'"
     ]
    }
   ],
   "source": [
    "p.name"
   ]
  },
  {
   "cell_type": "code",
   "execution_count": 47,
   "id": "f6f04877",
   "metadata": {},
   "outputs": [
    {
     "data": {
      "text/plain": [
       "'manu'"
      ]
     },
     "execution_count": 47,
     "metadata": {},
     "output_type": "execute_result"
    }
   ],
   "source": [
    "p.name1"
   ]
  },
  {
   "cell_type": "code",
   "execution_count": 48,
   "id": "b1aa585d",
   "metadata": {},
   "outputs": [
    {
     "data": {
      "text/plain": [
       "'bisen'"
      ]
     },
     "execution_count": 48,
     "metadata": {},
     "output_type": "execute_result"
    }
   ],
   "source": [
    "p.surname1"
   ]
  },
  {
   "cell_type": "code",
   "execution_count": 49,
   "id": "049c0ecf",
   "metadata": {},
   "outputs": [
    {
     "data": {
      "text/plain": [
       "1997"
      ]
     },
     "execution_count": 49,
     "metadata": {},
     "output_type": "execute_result"
    }
   ],
   "source": [
    "p.yob1"
   ]
  },
  {
   "cell_type": "code",
   "execution_count": 217,
   "id": "d52f35e5",
   "metadata": {},
   "outputs": [],
   "source": [
    "class person:\n",
    "    def __init__(self,name,surname,yob):\n",
    "        self.name=name\n",
    "        self.surname=surname\n",
    "        self.yob=yob\n",
    "    def test(self,n,m):\n",
    "        return n+m+yob"
   ]
  },
  {
   "cell_type": "code",
   "execution_count": 218,
   "id": "5794c417",
   "metadata": {},
   "outputs": [],
   "source": [
    "p=person(\"rajan\",\"bisen\",1993)"
   ]
  },
  {
   "cell_type": "code",
   "execution_count": 220,
   "id": "8cf64c68",
   "metadata": {},
   "outputs": [
    {
     "ename": "TypeError",
     "evalue": "test() takes 3 positional arguments but 4 were given",
     "output_type": "error",
     "traceback": [
      "\u001b[1;31m---------------------------------------------------------------------------\u001b[0m",
      "\u001b[1;31mTypeError\u001b[0m                                 Traceback (most recent call last)",
      "\u001b[1;32m~\\AppData\\Local\\Temp/ipykernel_884/3840041715.py\u001b[0m in \u001b[0;36m<module>\u001b[1;34m\u001b[0m\n\u001b[1;32m----> 1\u001b[1;33m \u001b[0mp\u001b[0m\u001b[1;33m.\u001b[0m\u001b[0mtest\u001b[0m\u001b[1;33m(\u001b[0m\u001b[1;36m24\u001b[0m\u001b[1;33m,\u001b[0m\u001b[1;36m25\u001b[0m\u001b[1;33m,\u001b[0m\u001b[1;36m26\u001b[0m\u001b[1;33m)\u001b[0m\u001b[1;33m\u001b[0m\u001b[1;33m\u001b[0m\u001b[0m\n\u001b[0m",
      "\u001b[1;31mTypeError\u001b[0m: test() takes 3 positional arguments but 4 were given"
     ]
    }
   ],
   "source": [
    "p.test(24,25,26)"
   ]
  },
  {
   "cell_type": "code",
   "execution_count": 53,
   "id": "40b91af7",
   "metadata": {},
   "outputs": [
    {
     "data": {
      "text/plain": [
       "'rajan'"
      ]
     },
     "execution_count": 53,
     "metadata": {},
     "output_type": "execute_result"
    }
   ],
   "source": [
    "p.name"
   ]
  },
  {
   "cell_type": "code",
   "execution_count": 54,
   "id": "436de0ab",
   "metadata": {},
   "outputs": [
    {
     "data": {
      "text/plain": [
       "1993"
      ]
     },
     "execution_count": 54,
     "metadata": {},
     "output_type": "execute_result"
    }
   ],
   "source": [
    "p.yob"
   ]
  },
  {
   "cell_type": "code",
   "execution_count": 55,
   "id": "000b7977",
   "metadata": {},
   "outputs": [
    {
     "data": {
      "text/plain": [
       "'bisen'"
      ]
     },
     "execution_count": 55,
     "metadata": {},
     "output_type": "execute_result"
    }
   ],
   "source": [
    "p.surname"
   ]
  },
  {
   "cell_type": "code",
   "execution_count": 56,
   "id": "ec35f619",
   "metadata": {},
   "outputs": [],
   "source": [
    "class person:\n",
    "    def __init__(self,name,surname,yob):\n",
    "        self.name=name\n",
    "        self.surname=surname\n",
    "        self.yob=yob\n",
    "    def test(self,n,m):\n",
    "        return n+m+self.yob"
   ]
  },
  {
   "cell_type": "code",
   "execution_count": 57,
   "id": "6338e7a9",
   "metadata": {},
   "outputs": [],
   "source": [
    "p=person(\"rajan\",\"bisen\",1993)"
   ]
  },
  {
   "cell_type": "code",
   "execution_count": 58,
   "id": "397afcc4",
   "metadata": {},
   "outputs": [
    {
     "data": {
      "text/plain": [
       "2042"
      ]
     },
     "execution_count": 58,
     "metadata": {},
     "output_type": "execute_result"
    }
   ],
   "source": [
    "p.test(24,25)"
   ]
  },
  {
   "cell_type": "code",
   "execution_count": 59,
   "id": "cda8bff7",
   "metadata": {},
   "outputs": [],
   "source": [
    "s=person(\"abc\",\"xyz\",12)"
   ]
  },
  {
   "cell_type": "code",
   "execution_count": 60,
   "id": "77cce6f8",
   "metadata": {},
   "outputs": [
    {
     "data": {
      "text/plain": [
       "27"
      ]
     },
     "execution_count": 60,
     "metadata": {},
     "output_type": "execute_result"
    }
   ],
   "source": [
    "s.test(9,6)"
   ]
  },
  {
   "cell_type": "code",
   "execution_count": 61,
   "id": "47b149cc",
   "metadata": {},
   "outputs": [
    {
     "data": {
      "text/plain": [
       "<__main__.person at 0x28ffb98c610>"
      ]
     },
     "execution_count": 61,
     "metadata": {},
     "output_type": "execute_result"
    }
   ],
   "source": [
    "p"
   ]
  },
  {
   "cell_type": "code",
   "execution_count": 62,
   "id": "b7ab72bc",
   "metadata": {},
   "outputs": [
    {
     "data": {
      "text/plain": [
       "__main__.person"
      ]
     },
     "execution_count": 62,
     "metadata": {},
     "output_type": "execute_result"
    }
   ],
   "source": [
    "type(p)"
   ]
  },
  {
   "cell_type": "code",
   "execution_count": 63,
   "id": "82825af3",
   "metadata": {},
   "outputs": [
    {
     "name": "stdout",
     "output_type": "stream",
     "text": [
      "<__main__.person object at 0x0000028FFB98C610>\n"
     ]
    }
   ],
   "source": [
    "print(p)"
   ]
  },
  {
   "cell_type": "code",
   "execution_count": 64,
   "id": "d55cfab0",
   "metadata": {},
   "outputs": [],
   "source": [
    "class person:\n",
    "    def __init__(self,name,surname,yob):\n",
    "        self.name=name\n",
    "        self.surname=surname\n",
    "        self.yob=yob\n",
    "    def test(self,n,m):\n",
    "        return n+m+yob\n",
    "    def __str__(self):\n",
    "        return 1"
   ]
  },
  {
   "cell_type": "code",
   "execution_count": 215,
   "id": "cda7b2f8",
   "metadata": {},
   "outputs": [],
   "source": [
    "p=person(\"y\",\"m\",45)"
   ]
  },
  {
   "cell_type": "code",
   "execution_count": 216,
   "id": "832defc5",
   "metadata": {},
   "outputs": [
    {
     "name": "stdout",
     "output_type": "stream",
     "text": [
      "y is my first name and my surname is m and yob is 45\n"
     ]
    }
   ],
   "source": [
    "print(p)"
   ]
  },
  {
   "cell_type": "code",
   "execution_count": 67,
   "id": "46f90864",
   "metadata": {},
   "outputs": [],
   "source": [
    "class person:\n",
    "    def __init__(self,name,surname,yob):\n",
    "        self.name=name\n",
    "        self.surname=surname\n",
    "        self.yob=yob\n",
    "    def test(self,n,m):\n",
    "        return n+m+yob\n",
    "    def __str__(self):\n",
    "        return \"We are learning object oreinted programming concept with python\""
   ]
  },
  {
   "cell_type": "code",
   "execution_count": 68,
   "id": "8dd0df1a",
   "metadata": {},
   "outputs": [],
   "source": [
    "p=person(\"y\",\"m\",45)"
   ]
  },
  {
   "cell_type": "code",
   "execution_count": 69,
   "id": "f22d7afc",
   "metadata": {},
   "outputs": [
    {
     "name": "stdout",
     "output_type": "stream",
     "text": [
      "We are learning object oreinted programming concept with python\n"
     ]
    }
   ],
   "source": [
    "print(p)"
   ]
  },
  {
   "cell_type": "code",
   "execution_count": 70,
   "id": "4b511aa7",
   "metadata": {},
   "outputs": [],
   "source": [
    "class person:\n",
    "    def __init__(self,name,surname,yob):\n",
    "        self.name=name\n",
    "        self.surname=surname\n",
    "        self.yob=yob\n",
    "    def test(self,n,m):\n",
    "        return n+m+yob\n",
    "    def __str__(self):\n",
    "        return \"%s is my first name and my surname is %s and yob is %d\"%(self.name,self.surname,\n",
    "                                                                        self.yob)"
   ]
  },
  {
   "cell_type": "code",
   "execution_count": 71,
   "id": "80abefcd",
   "metadata": {},
   "outputs": [],
   "source": [
    "p=person(\"rajan\",\"bisen\",1993)"
   ]
  },
  {
   "cell_type": "code",
   "execution_count": 72,
   "id": "dac348a8",
   "metadata": {},
   "outputs": [
    {
     "name": "stdout",
     "output_type": "stream",
     "text": [
      "rajan is my first name and my surname is bisen and yob is 1993\n"
     ]
    }
   ],
   "source": [
    "print(p)"
   ]
  },
  {
   "cell_type": "code",
   "execution_count": 73,
   "id": "e8e4a6cc",
   "metadata": {},
   "outputs": [],
   "source": [
    "class test:\n",
    "    pass"
   ]
  },
  {
   "cell_type": "code",
   "execution_count": 74,
   "id": "dcb2a942",
   "metadata": {},
   "outputs": [],
   "source": [
    "p=test()"
   ]
  },
  {
   "cell_type": "code",
   "execution_count": 75,
   "id": "b6a4ce97",
   "metadata": {},
   "outputs": [],
   "source": [
    "p.name=\"rajan\""
   ]
  },
  {
   "cell_type": "code",
   "execution_count": 76,
   "id": "6e2d8a94",
   "metadata": {},
   "outputs": [],
   "source": [
    "p.surname=\"bisen\""
   ]
  },
  {
   "cell_type": "code",
   "execution_count": 77,
   "id": "c31516f8",
   "metadata": {},
   "outputs": [],
   "source": [
    "p.yob=1993"
   ]
  },
  {
   "cell_type": "code",
   "execution_count": 78,
   "id": "c97b04c0",
   "metadata": {},
   "outputs": [
    {
     "data": {
      "text/plain": [
       "'rajan'"
      ]
     },
     "execution_count": 78,
     "metadata": {},
     "output_type": "execute_result"
    }
   ],
   "source": [
    "p.name"
   ]
  },
  {
   "cell_type": "code",
   "execution_count": 79,
   "id": "84e61e9d",
   "metadata": {},
   "outputs": [],
   "source": [
    "s=test()"
   ]
  },
  {
   "cell_type": "code",
   "execution_count": 80,
   "id": "371c8947",
   "metadata": {},
   "outputs": [],
   "source": [
    "s.name=\"mansi\""
   ]
  },
  {
   "cell_type": "code",
   "execution_count": 81,
   "id": "0878da36",
   "metadata": {},
   "outputs": [],
   "source": [
    "s.surname=\"ambule\""
   ]
  },
  {
   "cell_type": "code",
   "execution_count": 82,
   "id": "7c34ea9a",
   "metadata": {},
   "outputs": [],
   "source": [
    "s.yog=1997"
   ]
  },
  {
   "cell_type": "code",
   "execution_count": 83,
   "id": "53e2f440",
   "metadata": {},
   "outputs": [
    {
     "data": {
      "text/plain": [
       "'mansi'"
      ]
     },
     "execution_count": 83,
     "metadata": {},
     "output_type": "execute_result"
    }
   ],
   "source": [
    "s.name"
   ]
  },
  {
   "cell_type": "code",
   "execution_count": 84,
   "id": "168430f0",
   "metadata": {},
   "outputs": [],
   "source": [
    "class person:\n",
    "    def pass_name(self,name):\n",
    "        self.name=name\n",
    "    def pass_surname(self,surname):\n",
    "        self.surname=surname\n",
    "    def pass_yob(self,yob):\n",
    "        self.yob=yob"
   ]
  },
  {
   "cell_type": "code",
   "execution_count": 85,
   "id": "b2cdbe44",
   "metadata": {},
   "outputs": [],
   "source": [
    "p=person()"
   ]
  },
  {
   "cell_type": "code",
   "execution_count": 86,
   "id": "8c4c6bb6",
   "metadata": {},
   "outputs": [
    {
     "ename": "AttributeError",
     "evalue": "'person' object has no attribute 'name'",
     "output_type": "error",
     "traceback": [
      "\u001b[1;31m---------------------------------------------------------------------------\u001b[0m",
      "\u001b[1;31mAttributeError\u001b[0m                            Traceback (most recent call last)",
      "\u001b[1;32m~\\AppData\\Local\\Temp/ipykernel_884/1888443627.py\u001b[0m in \u001b[0;36m<module>\u001b[1;34m\u001b[0m\n\u001b[1;32m----> 1\u001b[1;33m \u001b[0mp\u001b[0m\u001b[1;33m.\u001b[0m\u001b[0mname\u001b[0m\u001b[1;33m\u001b[0m\u001b[1;33m\u001b[0m\u001b[0m\n\u001b[0m",
      "\u001b[1;31mAttributeError\u001b[0m: 'person' object has no attribute 'name'"
     ]
    }
   ],
   "source": [
    "p.name"
   ]
  },
  {
   "cell_type": "code",
   "execution_count": 87,
   "id": "7be42396",
   "metadata": {},
   "outputs": [],
   "source": [
    "p.pass_name(\"rajan\")"
   ]
  },
  {
   "cell_type": "code",
   "execution_count": 88,
   "id": "75e9a721",
   "metadata": {},
   "outputs": [],
   "source": [
    "p.pass_surname(\"bisen\")"
   ]
  },
  {
   "cell_type": "code",
   "execution_count": 89,
   "id": "05488799",
   "metadata": {},
   "outputs": [],
   "source": [
    "p.pass_yob(\"1993\")"
   ]
  },
  {
   "cell_type": "code",
   "execution_count": 90,
   "id": "98434a95",
   "metadata": {},
   "outputs": [
    {
     "data": {
      "text/plain": [
       "'rajan'"
      ]
     },
     "execution_count": 90,
     "metadata": {},
     "output_type": "execute_result"
    }
   ],
   "source": [
    "p.name"
   ]
  },
  {
   "cell_type": "markdown",
   "id": "737973f9",
   "metadata": {},
   "source": [
    "### Abstraction"
   ]
  },
  {
   "cell_type": "markdown",
   "id": "115efcce",
   "metadata": {},
   "source": [
    "Abstraction is about hiding like Public/Protected/Private"
   ]
  },
  {
   "cell_type": "code",
   "execution_count": 213,
   "id": "3728f199",
   "metadata": {},
   "outputs": [],
   "source": [
    "class person:\n",
    "    def __init__(self,name,surname,yob):\n",
    "        self.__name=name\n",
    "        self.__surname=surname\n",
    "        self.__yob=yob\n",
    "    def test(self,n,m):\n",
    "        return n+m+self.__yob\n",
    "    def __str__(self):\n",
    "        return \"%s is my first name and my surname is %s and yob is %d\"%(self.__name,self.__surname,\n",
    "                                                                         self.__yob)"
   ]
  },
  {
   "cell_type": "code",
   "execution_count": 214,
   "id": "95059fe6",
   "metadata": {},
   "outputs": [],
   "source": [
    "p=person(\"rajan\",\"bisen\",1993)"
   ]
  },
  {
   "cell_type": "code",
   "execution_count": 210,
   "id": "58077bb0",
   "metadata": {},
   "outputs": [],
   "source": [
    "p=person(\"raj\",\"bsn\",93)"
   ]
  },
  {
   "cell_type": "code",
   "execution_count": 94,
   "id": "eca35aab",
   "metadata": {},
   "outputs": [
    {
     "data": {
      "text/plain": [
       "'rajan'"
      ]
     },
     "execution_count": 94,
     "metadata": {},
     "output_type": "execute_result"
    }
   ],
   "source": [
    "p.name"
   ]
  },
  {
   "cell_type": "code",
   "execution_count": 209,
   "id": "06b4191c",
   "metadata": {},
   "outputs": [
    {
     "data": {
      "text/plain": [
       "'raj'"
      ]
     },
     "execution_count": 209,
     "metadata": {},
     "output_type": "execute_result"
    }
   ],
   "source": [
    "p._name"
   ]
  },
  {
   "cell_type": "code",
   "execution_count": 96,
   "id": "c9c6078a",
   "metadata": {},
   "outputs": [
    {
     "data": {
      "text/plain": [
       "{'name': 'rajan', 'surname': 'bisen', 'yob': '1993'}"
      ]
     },
     "execution_count": 96,
     "metadata": {},
     "output_type": "execute_result"
    }
   ],
   "source": [
    "p.__dict__"
   ]
  },
  {
   "cell_type": "code",
   "execution_count": 207,
   "id": "af025b21",
   "metadata": {},
   "outputs": [],
   "source": [
    "class person:\n",
    "    def __init__(self,name,surname,yob):\n",
    "        self.name=name\n",
    "        self.surname=surname\n",
    "        self.yob=yob\n",
    "    def test(self,n,m):\n",
    "        return n+m+self.yob\n",
    "    def __str__(self):\n",
    "        return \"%s is my first name and my surname is %s and yob is %d\"%(self.name,self.surname,\n",
    "                                                                         self.yob)"
   ]
  },
  {
   "cell_type": "code",
   "execution_count": 208,
   "id": "2ac08c1d",
   "metadata": {},
   "outputs": [],
   "source": [
    "s=person(\"abc\",\"xyz\",123)"
   ]
  },
  {
   "cell_type": "code",
   "execution_count": 200,
   "id": "750aeb2c",
   "metadata": {},
   "outputs": [],
   "source": [
    "class person:\n",
    "    def __init__(self,name,surname,yob):\n",
    "        self._name=name\n",
    "        self._surname=surname\n",
    "        self._yob=yob\n",
    "    def test(self,n,m):\n",
    "        return n+m+self._yob\n",
    "    def __str__(self):\n",
    "        return \"%s is my First name and my surname is %s and yob is %d\"%(self._name,self._surname,\n",
    "                                                                         self._yob)"
   ]
  },
  {
   "cell_type": "code",
   "execution_count": 201,
   "id": "9cf4248b",
   "metadata": {},
   "outputs": [],
   "source": [
    "p=person(\"raj\",\"bsn\",93)"
   ]
  },
  {
   "cell_type": "code",
   "execution_count": 204,
   "id": "7b4982ac",
   "metadata": {},
   "outputs": [
    {
     "ename": "AttributeError",
     "evalue": "'person' object has no attribute 'person_name'",
     "output_type": "error",
     "traceback": [
      "\u001b[1;31m---------------------------------------------------------------------------\u001b[0m",
      "\u001b[1;31mAttributeError\u001b[0m                            Traceback (most recent call last)",
      "\u001b[1;32m~\\AppData\\Local\\Temp/ipykernel_884/1327527149.py\u001b[0m in \u001b[0;36m<module>\u001b[1;34m\u001b[0m\n\u001b[1;32m----> 1\u001b[1;33m \u001b[0mp\u001b[0m\u001b[1;33m.\u001b[0m\u001b[0mperson_name\u001b[0m\u001b[1;33m\u001b[0m\u001b[1;33m\u001b[0m\u001b[0m\n\u001b[0m",
      "\u001b[1;31mAttributeError\u001b[0m: 'person' object has no attribute 'person_name'"
     ]
    }
   ],
   "source": [
    "p.person_name"
   ]
  },
  {
   "cell_type": "markdown",
   "id": "05576655",
   "metadata": {},
   "source": [
    "### Inheritance"
   ]
  },
  {
   "cell_type": "code",
   "execution_count": 195,
   "id": "04defc3a",
   "metadata": {},
   "outputs": [],
   "source": [
    "class person:\n",
    "    def __init__(self,name,surname,yob):\n",
    "        self._name=name\n",
    "        self._surname=surname\n",
    "        self._yob=yob\n",
    "    def test(self,n,m):\n",
    "        return n+m+self._yob\n",
    "    def __str__(self):\n",
    "        return \"%s is my First name and my surname is %s and yob is %d\"%(self.name,self.surname,\n",
    "                                                                         self.yob)"
   ]
  },
  {
   "cell_type": "code",
   "execution_count": 196,
   "id": "fe191d15",
   "metadata": {},
   "outputs": [],
   "source": [
    "class student(person):\n",
    "    def __init__(self,roll_no,college_name,*args):\n",
    "        super(student,self).__init__(*args)\n",
    "        self.roll_no=roll_no\n",
    "        self.college_name=college_name"
   ]
  },
  {
   "cell_type": "code",
   "execution_count": 197,
   "id": "4605f229",
   "metadata": {},
   "outputs": [
    {
     "ename": "TypeError",
     "evalue": "__init__() missing 3 required positional arguments: 'name', 'surname', and 'yob'",
     "output_type": "error",
     "traceback": [
      "\u001b[1;31m---------------------------------------------------------------------------\u001b[0m",
      "\u001b[1;31mTypeError\u001b[0m                                 Traceback (most recent call last)",
      "\u001b[1;32m~\\AppData\\Local\\Temp/ipykernel_884/1159948285.py\u001b[0m in \u001b[0;36m<module>\u001b[1;34m\u001b[0m\n\u001b[1;32m----> 1\u001b[1;33m \u001b[0mstud\u001b[0m\u001b[1;33m=\u001b[0m\u001b[0mstudent\u001b[0m\u001b[1;33m(\u001b[0m\u001b[1;36m342\u001b[0m\u001b[1;33m,\u001b[0m\u001b[1;34m\"ABC\"\u001b[0m\u001b[1;33m)\u001b[0m\u001b[1;33m\u001b[0m\u001b[1;33m\u001b[0m\u001b[0m\n\u001b[0m",
      "\u001b[1;32m~\\AppData\\Local\\Temp/ipykernel_884/4042607583.py\u001b[0m in \u001b[0;36m__init__\u001b[1;34m(self, roll_no, college_name, *args)\u001b[0m\n\u001b[0;32m      1\u001b[0m \u001b[1;32mclass\u001b[0m \u001b[0mstudent\u001b[0m\u001b[1;33m(\u001b[0m\u001b[0mperson\u001b[0m\u001b[1;33m)\u001b[0m\u001b[1;33m:\u001b[0m\u001b[1;33m\u001b[0m\u001b[1;33m\u001b[0m\u001b[0m\n\u001b[0;32m      2\u001b[0m     \u001b[1;32mdef\u001b[0m \u001b[0m__init__\u001b[0m\u001b[1;33m(\u001b[0m\u001b[0mself\u001b[0m\u001b[1;33m,\u001b[0m\u001b[0mroll_no\u001b[0m\u001b[1;33m,\u001b[0m\u001b[0mcollege_name\u001b[0m\u001b[1;33m,\u001b[0m\u001b[1;33m*\u001b[0m\u001b[0margs\u001b[0m\u001b[1;33m)\u001b[0m\u001b[1;33m:\u001b[0m\u001b[1;33m\u001b[0m\u001b[1;33m\u001b[0m\u001b[0m\n\u001b[1;32m----> 3\u001b[1;33m         \u001b[0msuper\u001b[0m\u001b[1;33m(\u001b[0m\u001b[0mstudent\u001b[0m\u001b[1;33m,\u001b[0m\u001b[0mself\u001b[0m\u001b[1;33m)\u001b[0m\u001b[1;33m.\u001b[0m\u001b[0m__init__\u001b[0m\u001b[1;33m(\u001b[0m\u001b[1;33m*\u001b[0m\u001b[0margs\u001b[0m\u001b[1;33m)\u001b[0m\u001b[1;33m\u001b[0m\u001b[1;33m\u001b[0m\u001b[0m\n\u001b[0m\u001b[0;32m      4\u001b[0m         \u001b[0mself\u001b[0m\u001b[1;33m.\u001b[0m\u001b[0mroll_no\u001b[0m\u001b[1;33m=\u001b[0m\u001b[0mroll_no\u001b[0m\u001b[1;33m\u001b[0m\u001b[1;33m\u001b[0m\u001b[0m\n\u001b[0;32m      5\u001b[0m         \u001b[0mself\u001b[0m\u001b[1;33m.\u001b[0m\u001b[0mcollege_name\u001b[0m\u001b[1;33m=\u001b[0m\u001b[0mcollege_name\u001b[0m\u001b[1;33m\u001b[0m\u001b[1;33m\u001b[0m\u001b[0m\n",
      "\u001b[1;31mTypeError\u001b[0m: __init__() missing 3 required positional arguments: 'name', 'surname', and 'yob'"
     ]
    }
   ],
   "source": [
    "stud=student(342,\"ABC\")"
   ]
  },
  {
   "cell_type": "code",
   "execution_count": 198,
   "id": "2479efe0",
   "metadata": {},
   "outputs": [],
   "source": [
    "stud=student(45,\"ABC\",\"yogesh\",\"murumkar\",8989)"
   ]
  },
  {
   "cell_type": "code",
   "execution_count": 199,
   "id": "b2352386",
   "metadata": {},
   "outputs": [
    {
     "data": {
      "text/plain": [
       "'ABC'"
      ]
     },
     "execution_count": 199,
     "metadata": {},
     "output_type": "execute_result"
    }
   ],
   "source": [
    "stud.college_name"
   ]
  },
  {
   "cell_type": "code",
   "execution_count": 116,
   "id": "6534f8d1",
   "metadata": {},
   "outputs": [],
   "source": [
    "class a:\n",
    "    def test(self):\n",
    "        print(\"My name is Rajan\")"
   ]
  },
  {
   "cell_type": "code",
   "execution_count": 117,
   "id": "2d6835ba",
   "metadata": {},
   "outputs": [],
   "source": [
    "class b:\n",
    "    def test(self):\n",
    "        print(\"My surname is Bisen\")"
   ]
  },
  {
   "cell_type": "code",
   "execution_count": 118,
   "id": "bc1921e4",
   "metadata": {},
   "outputs": [
    {
     "name": "stdout",
     "output_type": "stream",
     "text": [
      "My name is Rajan\n",
      "My surname is Bisen\n"
     ]
    }
   ],
   "source": [
    "class c(a,b):\n",
    "    obja=a()\n",
    "    objb=b()\n",
    "    obja.test()\n",
    "    objb.test()"
   ]
  },
  {
   "cell_type": "code",
   "execution_count": 119,
   "id": "8dff94c2",
   "metadata": {},
   "outputs": [],
   "source": [
    "objc=c()"
   ]
  },
  {
   "cell_type": "code",
   "execution_count": 120,
   "id": "c21c4774",
   "metadata": {},
   "outputs": [
    {
     "name": "stdout",
     "output_type": "stream",
     "text": [
      "My name is Rajan\n"
     ]
    }
   ],
   "source": [
    "objc.test()"
   ]
  },
  {
   "cell_type": "code",
   "execution_count": 121,
   "id": "4b7164bf",
   "metadata": {},
   "outputs": [
    {
     "name": "stdout",
     "output_type": "stream",
     "text": [
      "My name is Rajan\n",
      "My surname is Bisen\n"
     ]
    }
   ],
   "source": [
    "class c(b,a):\n",
    "    obja=a()\n",
    "    objb=b()\n",
    "    obja.test()\n",
    "    objb.test()"
   ]
  },
  {
   "cell_type": "code",
   "execution_count": 122,
   "id": "ac5bbaa7",
   "metadata": {},
   "outputs": [],
   "source": [
    "objc=c()"
   ]
  },
  {
   "cell_type": "code",
   "execution_count": 123,
   "id": "97f5d1cf",
   "metadata": {},
   "outputs": [
    {
     "name": "stdout",
     "output_type": "stream",
     "text": [
      "My surname is Bisen\n"
     ]
    }
   ],
   "source": [
    "objc.test()"
   ]
  },
  {
   "cell_type": "markdown",
   "id": "e97d3274",
   "metadata": {},
   "source": [
    "### Method Overriding"
   ]
  },
  {
   "cell_type": "code",
   "execution_count": 124,
   "id": "48edb867",
   "metadata": {},
   "outputs": [],
   "source": [
    "class person:\n",
    "    def __init__(self,a,b,c):\n",
    "        self.a=a\n",
    "        self.b=b\n",
    "        self.c=c\n",
    "    def __str__(self):\n",
    "        return \"My name is Rajan\"\n",
    "    \n",
    "    # def __str__(self):\n",
    "    #     return \"My name is Rajan\""
   ]
  },
  {
   "cell_type": "code",
   "execution_count": 127,
   "id": "4cadbc31",
   "metadata": {},
   "outputs": [],
   "source": [
    "p=person(3,6,8)"
   ]
  },
  {
   "cell_type": "code",
   "execution_count": 128,
   "id": "5ec8e64e",
   "metadata": {},
   "outputs": [
    {
     "name": "stdout",
     "output_type": "stream",
     "text": [
      "My name is Rajan\n"
     ]
    }
   ],
   "source": [
    "print(p)"
   ]
  },
  {
   "cell_type": "code",
   "execution_count": 129,
   "id": "f3fd2149",
   "metadata": {},
   "outputs": [],
   "source": [
    "class person:\n",
    "    def __init__(self,a,b,c):\n",
    "        self.a=a\n",
    "        self.b=b\n",
    "        self.c=c\n",
    "    def __str__(self):\n",
    "        return \"My name is Rajan\""
   ]
  },
  {
   "cell_type": "code",
   "execution_count": 130,
   "id": "86942f06",
   "metadata": {},
   "outputs": [],
   "source": [
    "p=person(4,5,6)"
   ]
  },
  {
   "cell_type": "code",
   "execution_count": 131,
   "id": "0f4f2d27",
   "metadata": {},
   "outputs": [
    {
     "name": "stdout",
     "output_type": "stream",
     "text": [
      "My name is Rajan\n"
     ]
    }
   ],
   "source": [
    "print(p)"
   ]
  },
  {
   "cell_type": "code",
   "execution_count": 133,
   "id": "3fee7e6a",
   "metadata": {},
   "outputs": [],
   "source": [
    "class student(person):\n",
    "    def __init__(self,student_id,*args):\n",
    "        super(student,self).__init__(*args)\n",
    "        self.student_id=student_id"
   ]
  },
  {
   "cell_type": "code",
   "execution_count": 135,
   "id": "1e34e7aa",
   "metadata": {},
   "outputs": [],
   "source": [
    "s=student(4,5,6,9)"
   ]
  },
  {
   "cell_type": "code",
   "execution_count": 136,
   "id": "cea44995",
   "metadata": {},
   "outputs": [
    {
     "data": {
      "text/plain": [
       "<__main__.student at 0x28ffba89f40>"
      ]
     },
     "execution_count": 136,
     "metadata": {},
     "output_type": "execute_result"
    }
   ],
   "source": [
    "s"
   ]
  },
  {
   "cell_type": "code",
   "execution_count": 137,
   "id": "e5fb8d9f",
   "metadata": {},
   "outputs": [
    {
     "name": "stdout",
     "output_type": "stream",
     "text": [
      "My name is Rajan\n"
     ]
    }
   ],
   "source": [
    "print(s)"
   ]
  },
  {
   "cell_type": "code",
   "execution_count": 138,
   "id": "f1563f72",
   "metadata": {},
   "outputs": [],
   "source": [
    "class student(person):\n",
    "    def __init__(self,student_id,*args):\n",
    "        super(student,self).__init__(*args)\n",
    "        self.student_id=student_id\n",
    "    def __str__(self):\n",
    "        return super(student,self).__str__()+\"I am an Employee\""
   ]
  },
  {
   "cell_type": "code",
   "execution_count": 139,
   "id": "f224fd3f",
   "metadata": {},
   "outputs": [
    {
     "name": "stdout",
     "output_type": "stream",
     "text": [
      "My name is Rajan\n"
     ]
    }
   ],
   "source": [
    "print(s)"
   ]
  },
  {
   "cell_type": "code",
   "execution_count": 140,
   "id": "431ef65f",
   "metadata": {},
   "outputs": [],
   "source": [
    "s=student(4,5,6,7)"
   ]
  },
  {
   "cell_type": "code",
   "execution_count": 141,
   "id": "8aa4639a",
   "metadata": {},
   "outputs": [
    {
     "data": {
      "text/plain": [
       "<__main__.student at 0x28ffba81970>"
      ]
     },
     "execution_count": 141,
     "metadata": {},
     "output_type": "execute_result"
    }
   ],
   "source": [
    "s"
   ]
  },
  {
   "cell_type": "code",
   "execution_count": 142,
   "id": "614d6480",
   "metadata": {},
   "outputs": [
    {
     "name": "stdout",
     "output_type": "stream",
     "text": [
      "My name is RajanI am an Employee\n"
     ]
    }
   ],
   "source": [
    "print(s)"
   ]
  },
  {
   "cell_type": "code",
   "execution_count": 143,
   "id": "35e3fbbe",
   "metadata": {},
   "outputs": [],
   "source": [
    "p=person(4,5,6)"
   ]
  },
  {
   "cell_type": "code",
   "execution_count": 144,
   "id": "6cc66269",
   "metadata": {},
   "outputs": [
    {
     "name": "stdout",
     "output_type": "stream",
     "text": [
      "My name is Rajan\n"
     ]
    }
   ],
   "source": [
    "print(p)"
   ]
  },
  {
   "cell_type": "code",
   "execution_count": 148,
   "id": "e69f01d3",
   "metadata": {},
   "outputs": [],
   "source": [
    "class maths:\n",
    "    def add(self,a,b,c):\n",
    "        print(a+b)\n",
    "    def add(self,a,b,c):\n",
    "        print(a+b+c)"
   ]
  },
  {
   "cell_type": "code",
   "execution_count": 149,
   "id": "7f6af5f9",
   "metadata": {},
   "outputs": [],
   "source": [
    "s=maths()"
   ]
  },
  {
   "cell_type": "code",
   "execution_count": 150,
   "id": "acaee6a6",
   "metadata": {},
   "outputs": [
    {
     "name": "stdout",
     "output_type": "stream",
     "text": [
      "29\n"
     ]
    }
   ],
   "source": [
    "s.add(8,9,12)"
   ]
  },
  {
   "cell_type": "code",
   "execution_count": 151,
   "id": "bcee3a93",
   "metadata": {},
   "outputs": [
    {
     "ename": "TypeError",
     "evalue": "add() missing 1 required positional argument: 'c'",
     "output_type": "error",
     "traceback": [
      "\u001b[1;31m---------------------------------------------------------------------------\u001b[0m",
      "\u001b[1;31mTypeError\u001b[0m                                 Traceback (most recent call last)",
      "\u001b[1;32m~\\AppData\\Local\\Temp/ipykernel_884/1729433891.py\u001b[0m in \u001b[0;36m<module>\u001b[1;34m\u001b[0m\n\u001b[1;32m----> 1\u001b[1;33m \u001b[0ms\u001b[0m\u001b[1;33m.\u001b[0m\u001b[0madd\u001b[0m\u001b[1;33m(\u001b[0m\u001b[1;36m8\u001b[0m\u001b[1;33m,\u001b[0m\u001b[1;36m9\u001b[0m\u001b[1;33m)\u001b[0m\u001b[1;33m\u001b[0m\u001b[1;33m\u001b[0m\u001b[0m\n\u001b[0m",
      "\u001b[1;31mTypeError\u001b[0m: add() missing 1 required positional argument: 'c'"
     ]
    }
   ],
   "source": [
    "s.add(8,9)"
   ]
  },
  {
   "cell_type": "code",
   "execution_count": 152,
   "id": "eaec8278",
   "metadata": {},
   "outputs": [],
   "source": [
    "class maths:\n",
    "    def add(self,*args):\n",
    "        sum=0\n",
    "        for a in args:\n",
    "            sum=sum+a\n",
    "        print(sum)"
   ]
  },
  {
   "cell_type": "code",
   "execution_count": 153,
   "id": "7d1a191f",
   "metadata": {},
   "outputs": [],
   "source": [
    "s=maths"
   ]
  },
  {
   "cell_type": "code",
   "execution_count": 155,
   "id": "68d1671e",
   "metadata": {},
   "outputs": [
    {
     "name": "stdout",
     "output_type": "stream",
     "text": [
      "21\n"
     ]
    }
   ],
   "source": [
    "s.add(8,9,12)"
   ]
  },
  {
   "cell_type": "code",
   "execution_count": 156,
   "id": "ae9c12a8",
   "metadata": {},
   "outputs": [
    {
     "name": "stdout",
     "output_type": "stream",
     "text": [
      "9\n"
     ]
    }
   ],
   "source": [
    "s.add(8,9)"
   ]
  },
  {
   "cell_type": "markdown",
   "id": "153a2f0e",
   "metadata": {},
   "source": [
    "### Encapsulation"
   ]
  },
  {
   "cell_type": "code",
   "execution_count": 172,
   "id": "6a1af2b6",
   "metadata": {},
   "outputs": [],
   "source": [
    "class tyre:\n",
    "    def __init__(self,branch,baise,opt_pre):\n",
    "        self.branch=branch\n",
    "        self.baise=baise\n",
    "        self.opt_pre=opt_pre\n",
    "    def __str__(self):\n",
    "        return str(self.branch) + str(self.baise) + str(self.opt_pre)"
   ]
  },
  {
   "cell_type": "code",
   "execution_count": 173,
   "id": "c2f19202",
   "metadata": {},
   "outputs": [],
   "source": [
    "t=tyre(\"xyz\",56,33)"
   ]
  },
  {
   "cell_type": "code",
   "execution_count": 177,
   "id": "44ba4401",
   "metadata": {},
   "outputs": [
    {
     "data": {
      "text/plain": [
       "<__main__.tyre at 0x28ffba81b80>"
      ]
     },
     "execution_count": 177,
     "metadata": {},
     "output_type": "execute_result"
    }
   ],
   "source": [
    "t"
   ]
  },
  {
   "cell_type": "code",
   "execution_count": 176,
   "id": "fd253828",
   "metadata": {},
   "outputs": [
    {
     "name": "stdout",
     "output_type": "stream",
     "text": [
      "xyz5633\n"
     ]
    }
   ],
   "source": [
    "print(t)"
   ]
  },
  {
   "cell_type": "code",
   "execution_count": 174,
   "id": "0d3e1f8a",
   "metadata": {},
   "outputs": [],
   "source": [
    "class engine:\n",
    "    def __init__(self,fuel_type,noise_level):\n",
    "        self.fuel_type=fuel_type\n",
    "        self.noise_level=noise_level\n",
    "    def __str__(self):\n",
    "        return str(self.noise_level)+str(self.fuel_type)"
   ]
  },
  {
   "cell_type": "code",
   "execution_count": 175,
   "id": "06551ac4",
   "metadata": {},
   "outputs": [],
   "source": [
    "e=engine(\"petrol\",56)"
   ]
  },
  {
   "cell_type": "code",
   "execution_count": 178,
   "id": "0ec7577c",
   "metadata": {},
   "outputs": [
    {
     "data": {
      "text/plain": [
       "<__main__.engine at 0x28ffba895e0>"
      ]
     },
     "execution_count": 178,
     "metadata": {},
     "output_type": "execute_result"
    }
   ],
   "source": [
    "e"
   ]
  },
  {
   "cell_type": "code",
   "execution_count": 179,
   "id": "45ba23fa",
   "metadata": {},
   "outputs": [
    {
     "name": "stdout",
     "output_type": "stream",
     "text": [
      "56petrol\n"
     ]
    }
   ],
   "source": [
    "print(e)"
   ]
  },
  {
   "cell_type": "code",
   "execution_count": 182,
   "id": "56359918",
   "metadata": {},
   "outputs": [],
   "source": [
    "class body:\n",
    "    def __init__(self,body_size):\n",
    "        self.body_size=body_size\n",
    "    def __str__(self):\n",
    "        return \"this is my def of engine class\" + \" \" + str(self.body_size)"
   ]
  },
  {
   "cell_type": "code",
   "execution_count": 183,
   "id": "504b7442",
   "metadata": {},
   "outputs": [],
   "source": [
    "b=body(\"small\")"
   ]
  },
  {
   "cell_type": "code",
   "execution_count": 184,
   "id": "53cdec95",
   "metadata": {},
   "outputs": [
    {
     "data": {
      "text/plain": [
       "<__main__.body at 0x28ffba81bb0>"
      ]
     },
     "execution_count": 184,
     "metadata": {},
     "output_type": "execute_result"
    }
   ],
   "source": [
    "b"
   ]
  },
  {
   "cell_type": "code",
   "execution_count": 185,
   "id": "fa2f2b04",
   "metadata": {},
   "outputs": [
    {
     "name": "stdout",
     "output_type": "stream",
     "text": [
      "this is my def of engine class small\n"
     ]
    }
   ],
   "source": [
    "print(b)"
   ]
  },
  {
   "cell_type": "code",
   "execution_count": 186,
   "id": "8d034d09",
   "metadata": {},
   "outputs": [],
   "source": [
    "class car:\n",
    "    def __init__(self,ti,ei,bi):\n",
    "        self.ti=ti\n",
    "        self.ei=ei\n",
    "        self.bi=bi\n",
    "    def __str__(self):\n",
    "        return str(self.ti) + \" \" + str(self.ei) + \" \" + str(self.bi)"
   ]
  },
  {
   "cell_type": "code",
   "execution_count": 187,
   "id": "0dfd51be",
   "metadata": {},
   "outputs": [],
   "source": [
    "c=car(\"abc\",\"pqr\",\"xyz\")"
   ]
  },
  {
   "cell_type": "code",
   "execution_count": 188,
   "id": "e9adc12d",
   "metadata": {},
   "outputs": [
    {
     "name": "stdout",
     "output_type": "stream",
     "text": [
      "abc pqr xyz\n"
     ]
    }
   ],
   "source": [
    "print(c)"
   ]
  },
  {
   "cell_type": "code",
   "execution_count": 228,
   "id": "9f8758a3",
   "metadata": {},
   "outputs": [],
   "source": [
    "c=car(t,e,b)"
   ]
  },
  {
   "cell_type": "code",
   "execution_count": 229,
   "id": "c4af679a",
   "metadata": {},
   "outputs": [
    {
     "data": {
      "text/plain": [
       "<__main__.car at 0x28ffdd54a00>"
      ]
     },
     "execution_count": 229,
     "metadata": {},
     "output_type": "execute_result"
    }
   ],
   "source": [
    "c"
   ]
  },
  {
   "cell_type": "code",
   "execution_count": 230,
   "id": "57d2a912",
   "metadata": {},
   "outputs": [
    {
     "name": "stdout",
     "output_type": "stream",
     "text": [
      "xyz5633 56petrol this is my def of engine class small\n"
     ]
    }
   ],
   "source": [
    "print(c)"
   ]
  },
  {
   "cell_type": "code",
   "execution_count": 225,
   "id": "3ef467c8",
   "metadata": {},
   "outputs": [],
   "source": [
    "import pandas as pd"
   ]
  },
  {
   "cell_type": "code",
   "execution_count": 226,
   "id": "4efb2a97",
   "metadata": {},
   "outputs": [
    {
     "data": {
      "text/plain": [
       "range(0, 10)"
      ]
     },
     "execution_count": 226,
     "metadata": {},
     "output_type": "execute_result"
    }
   ],
   "source": [
    "range(10)"
   ]
  },
  {
   "cell_type": "code",
   "execution_count": 231,
   "id": "e8c04230",
   "metadata": {},
   "outputs": [],
   "source": [
    "c=car(t,e,\"this is my def of Engine class\")"
   ]
  },
  {
   "cell_type": "code",
   "execution_count": 232,
   "id": "4aba7cd7",
   "metadata": {},
   "outputs": [
    {
     "name": "stdout",
     "output_type": "stream",
     "text": [
      "xyz5633 56petrol this is my def of Engine class\n"
     ]
    }
   ],
   "source": [
    "print(c)"
   ]
  },
  {
   "cell_type": "code",
   "execution_count": 233,
   "id": "ea9ee9ce",
   "metadata": {},
   "outputs": [],
   "source": [
    "### Polymorphism"
   ]
  },
  {
   "cell_type": "code",
   "execution_count": 234,
   "id": "f3453ec6",
   "metadata": {},
   "outputs": [],
   "source": [
    "def add_x(a,b):\n",
    "    return a+b"
   ]
  },
  {
   "cell_type": "code",
   "execution_count": 235,
   "id": "8c6c15b1",
   "metadata": {},
   "outputs": [
    {
     "data": {
      "text/plain": [
       "'abcxyz'"
      ]
     },
     "execution_count": 235,
     "metadata": {},
     "output_type": "execute_result"
    }
   ],
   "source": [
    "add_x(\"abc\",\"xyz\")"
   ]
  },
  {
   "cell_type": "code",
   "execution_count": 236,
   "id": "fd881943",
   "metadata": {},
   "outputs": [
    {
     "data": {
      "text/plain": [
       "10"
      ]
     },
     "execution_count": 236,
     "metadata": {},
     "output_type": "execute_result"
    }
   ],
   "source": [
    "add_x(3,7)"
   ]
  },
  {
   "cell_type": "code",
   "execution_count": 237,
   "id": "b5e32f30",
   "metadata": {},
   "outputs": [
    {
     "data": {
      "text/plain": [
       "[3, 5, 6, 6, 5, 5, 7, 7]"
      ]
     },
     "execution_count": 237,
     "metadata": {},
     "output_type": "execute_result"
    }
   ],
   "source": [
    "add_x([3,5,6,6],[5,5,7,7])"
   ]
  },
  {
   "cell_type": "code",
   "execution_count": 241,
   "id": "a8ac23e5",
   "metadata": {},
   "outputs": [
    {
     "name": "stdout",
     "output_type": "stream",
     "text": [
      "Overwriting friday.text\n"
     ]
    }
   ],
   "source": [
    "%%writefile friday.text\n",
    "my name is Rajan\n",
    "i am an Indian"
   ]
  },
  {
   "cell_type": "code",
   "execution_count": 239,
   "id": "32c4a238",
   "metadata": {},
   "outputs": [
    {
     "data": {
      "text/plain": [
       "'C:\\\\Users\\\\HP\\\\Python.Tableu Traning\\\\ML SQL Tableau Notes'"
      ]
     },
     "execution_count": 239,
     "metadata": {},
     "output_type": "execute_result"
    }
   ],
   "source": [
    "pwd"
   ]
  },
  {
   "cell_type": "code",
   "execution_count": 242,
   "id": "5e4a084c",
   "metadata": {},
   "outputs": [],
   "source": [
    "from io import StringIO"
   ]
  },
  {
   "cell_type": "code",
   "execution_count": 243,
   "id": "157e5b85",
   "metadata": {},
   "outputs": [
    {
     "name": "stdout",
     "output_type": "stream",
     "text": [
      "hello\n"
     ]
    }
   ],
   "source": [
    "s=input()"
   ]
  },
  {
   "cell_type": "code",
   "execution_count": 244,
   "id": "b74037a0",
   "metadata": {},
   "outputs": [
    {
     "data": {
      "text/plain": [
       "'hello'"
      ]
     },
     "execution_count": 244,
     "metadata": {},
     "output_type": "execute_result"
    }
   ],
   "source": [
    "s"
   ]
  },
  {
   "cell_type": "code",
   "execution_count": 245,
   "id": "50fefa39",
   "metadata": {},
   "outputs": [
    {
     "data": {
      "text/plain": [
       "str"
      ]
     },
     "execution_count": 245,
     "metadata": {},
     "output_type": "execute_result"
    }
   ],
   "source": [
    "type(s)"
   ]
  },
  {
   "cell_type": "code",
   "execution_count": 246,
   "id": "187bc597",
   "metadata": {},
   "outputs": [],
   "source": [
    "s1=StringIO(s)"
   ]
  },
  {
   "cell_type": "code",
   "execution_count": 247,
   "id": "80ab7e27",
   "metadata": {},
   "outputs": [
    {
     "data": {
      "text/plain": [
       "_io.StringIO"
      ]
     },
     "execution_count": 247,
     "metadata": {},
     "output_type": "execute_result"
    }
   ],
   "source": [
    "type(s1)"
   ]
  },
  {
   "cell_type": "code",
   "execution_count": 248,
   "id": "8633fa5a",
   "metadata": {},
   "outputs": [
    {
     "data": {
      "text/plain": [
       "'hello'"
      ]
     },
     "execution_count": 248,
     "metadata": {},
     "output_type": "execute_result"
    }
   ],
   "source": [
    "s1.read()"
   ]
  },
  {
   "cell_type": "code",
   "execution_count": 251,
   "id": "f41a3434",
   "metadata": {},
   "outputs": [
    {
     "name": "stdout",
     "output_type": "stream",
     "text": [
      "Entre the value:We are learning Python\n"
     ]
    }
   ],
   "source": [
    "s=input(\"Entre the value:\")"
   ]
  },
  {
   "cell_type": "code",
   "execution_count": 252,
   "id": "4d9e636a",
   "metadata": {},
   "outputs": [
    {
     "data": {
      "text/plain": [
       "str"
      ]
     },
     "execution_count": 252,
     "metadata": {},
     "output_type": "execute_result"
    }
   ],
   "source": [
    "type(s)"
   ]
  },
  {
   "cell_type": "code",
   "execution_count": 253,
   "id": "d0f06806",
   "metadata": {},
   "outputs": [],
   "source": [
    "s1=StringIO(s)"
   ]
  },
  {
   "cell_type": "code",
   "execution_count": 254,
   "id": "65d28970",
   "metadata": {},
   "outputs": [
    {
     "data": {
      "text/plain": [
       "'We are learning Python'"
      ]
     },
     "execution_count": 254,
     "metadata": {},
     "output_type": "execute_result"
    }
   ],
   "source": [
    "s1.read()"
   ]
  },
  {
   "cell_type": "code",
   "execution_count": null,
   "id": "0cec7a86",
   "metadata": {},
   "outputs": [],
   "source": []
  }
 ],
 "metadata": {
  "kernelspec": {
   "display_name": "Python 3 (ipykernel)",
   "language": "python",
   "name": "python3"
  },
  "language_info": {
   "codemirror_mode": {
    "name": "ipython",
    "version": 3
   },
   "file_extension": ".py",
   "mimetype": "text/x-python",
   "name": "python",
   "nbconvert_exporter": "python",
   "pygments_lexer": "ipython3",
   "version": "3.9.7"
  }
 },
 "nbformat": 4,
 "nbformat_minor": 5
}
