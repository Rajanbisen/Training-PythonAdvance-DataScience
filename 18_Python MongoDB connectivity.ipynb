{
 "cells": [
  {
   "cell_type": "code",
   "execution_count": 1,
   "id": "3a4f3a8e",
   "metadata": {},
   "outputs": [
    {
     "name": "stdout",
     "output_type": "stream",
     "text": [
      "Collecting pymongo\n",
      "  Using cached pymongo-4.1.1-cp39-cp39-win_amd64.whl (365 kB)\n",
      "Installing collected packages: pymongo\n",
      "Successfully installed pymongo-4.1.1\n"
     ]
    }
   ],
   "source": [
    "!pip install pymongo"
   ]
  },
  {
   "cell_type": "code",
   "execution_count": 2,
   "id": "3176cba1",
   "metadata": {},
   "outputs": [],
   "source": [
    "import pymongo"
   ]
  },
  {
   "cell_type": "code",
   "execution_count": 3,
   "id": "f295e58f",
   "metadata": {},
   "outputs": [],
   "source": [
    "dbConn=pymongo.MongoClient(\"mongodb://localhost:27017/\")"
   ]
  },
  {
   "cell_type": "code",
   "execution_count": 4,
   "id": "9b235acd",
   "metadata": {},
   "outputs": [
    {
     "data": {
      "text/plain": [
       "MongoClient(host=['localhost:27017'], document_class=dict, tz_aware=False, connect=True)"
      ]
     },
     "execution_count": 4,
     "metadata": {},
     "output_type": "execute_result"
    }
   ],
   "source": [
    "dbConn"
   ]
  },
  {
   "cell_type": "code",
   "execution_count": 5,
   "id": "60bf0389",
   "metadata": {},
   "outputs": [],
   "source": [
    "db=dbConn[\"Wednesday\"]"
   ]
  },
  {
   "cell_type": "code",
   "execution_count": 6,
   "id": "62f2c2ea",
   "metadata": {},
   "outputs": [
    {
     "data": {
      "text/plain": [
       "Database(MongoClient(host=['localhost:27017'], document_class=dict, tz_aware=False, connect=True), 'Wednesday')"
      ]
     },
     "execution_count": 6,
     "metadata": {},
     "output_type": "execute_result"
    }
   ],
   "source": [
    "db"
   ]
  },
  {
   "cell_type": "code",
   "execution_count": 7,
   "id": "5b9dd042",
   "metadata": {},
   "outputs": [
    {
     "name": "stdout",
     "output_type": "stream",
     "text": [
      "['admin', 'batch_ml', 'config', 'local', 'my_db', 'sachin_db']\n"
     ]
    }
   ],
   "source": [
    "print(dbConn.list_database_names())"
   ]
  },
  {
   "cell_type": "code",
   "execution_count": 8,
   "id": "6ca624fa",
   "metadata": {},
   "outputs": [
    {
     "name": "stdout",
     "output_type": "stream",
     "text": [
      "This Databse exists\n"
     ]
    }
   ],
   "source": [
    "# check if the databse exists in mongoDB\n",
    "dblist=dbConn.list_database_names() # obtaining all the database names\n",
    "db_name='batch_ml'\n",
    "\n",
    "if dblist.index(db_name)==-1:\n",
    "    print (\"This Databse doesn't exist\")\n",
    "else:\n",
    "    print (\"This Databse exists\")"
   ]
  },
  {
   "cell_type": "code",
   "execution_count": 9,
   "id": "511c8985",
   "metadata": {},
   "outputs": [],
   "source": [
    "collection_name='mongo_demo'\n",
    "collection=db[collection_name]"
   ]
  },
  {
   "cell_type": "code",
   "execution_count": 10,
   "id": "b7af0e4a",
   "metadata": {},
   "outputs": [
    {
     "data": {
      "text/plain": [
       "Collection(Database(MongoClient(host=['localhost:27017'], document_class=dict, tz_aware=False, connect=True), 'Wednesday'), 'mongo_demo')"
      ]
     },
     "execution_count": 10,
     "metadata": {},
     "output_type": "execute_result"
    }
   ],
   "source": [
    "collection"
   ]
  },
  {
   "cell_type": "code",
   "execution_count": 11,
   "id": "0b7995ce",
   "metadata": {},
   "outputs": [
    {
     "name": "stdout",
     "output_type": "stream",
     "text": [
      "The collection doesn't exist.\n"
     ]
    }
   ],
   "source": [
    "if collection_name in db.list_collection_names():\n",
    "    print(\"The collection exists.\")\n",
    "else:\n",
    "    print(\"The collection doesn't exist.\")  "
   ]
  },
  {
   "cell_type": "code",
   "execution_count": 13,
   "id": "32ad69a4",
   "metadata": {},
   "outputs": [],
   "source": [
    "dbname='demoDB'\n",
    "db = dbConn[dbname]"
   ]
  },
  {
   "cell_type": "code",
   "execution_count": 14,
   "id": "2bc15aec",
   "metadata": {},
   "outputs": [],
   "source": [
    "collection_name='today'\n",
    "collection=db[collection_name]"
   ]
  },
  {
   "cell_type": "code",
   "execution_count": 15,
   "id": "39f5a722",
   "metadata": {},
   "outputs": [
    {
     "name": "stdout",
     "output_type": "stream",
     "text": [
      "The collection doesn't exist.\n"
     ]
    }
   ],
   "source": [
    "if collection_name in db.list_collection_names():\n",
    "    print(\"The collection exists.\")\n",
    "else:\n",
    "    print(\"The collection doesn't exist.\")  "
   ]
  },
  {
   "cell_type": "code",
   "execution_count": 16,
   "id": "5452a00b",
   "metadata": {},
   "outputs": [],
   "source": [
    "my_row = {'Serial No': '9998',\n",
    " 'GRE Score': '337',\n",
    " 'TOEFL Score': '118',\n",
    " 'University Rating': '4',\n",
    " 'SOP': '4.5',\n",
    " 'LOR': '4.5',\n",
    " 'CGPA': '9.65',\n",
    " 'Research': '1',\n",
    " 'Chance of Admit': '0.92'}"
   ]
  },
  {
   "cell_type": "code",
   "execution_count": 17,
   "id": "022c28b0",
   "metadata": {},
   "outputs": [
    {
     "data": {
      "text/plain": [
       "{'Serial No': '9998',\n",
       " 'GRE Score': '337',\n",
       " 'TOEFL Score': '118',\n",
       " 'University Rating': '4',\n",
       " 'SOP': '4.5',\n",
       " 'LOR': '4.5',\n",
       " 'CGPA': '9.65',\n",
       " 'Research': '1',\n",
       " 'Chance of Admit': '0.92'}"
      ]
     },
     "execution_count": 17,
     "metadata": {},
     "output_type": "execute_result"
    }
   ],
   "source": [
    "my_row"
   ]
  },
  {
   "cell_type": "code",
   "execution_count": 18,
   "id": "d4c84ceb",
   "metadata": {},
   "outputs": [],
   "source": [
    "x = collection.insert_one(my_row)"
   ]
  },
  {
   "cell_type": "code",
   "execution_count": 19,
   "id": "554ef95b",
   "metadata": {},
   "outputs": [
    {
     "name": "stdout",
     "output_type": "stream",
     "text": [
      "627fdd54a6ada4a17e74c946\n"
     ]
    }
   ],
   "source": [
    "print(x.inserted_id)"
   ]
  },
  {
   "cell_type": "code",
   "execution_count": 20,
   "id": "e8bc00d5",
   "metadata": {},
   "outputs": [],
   "source": [
    "my_rows = [\n",
    "{'Serial No': '9997',\n",
    " 'GRE Score': '337',\n",
    " 'TOEFL Score': '118',\n",
    " 'University Rating': '4',\n",
    " 'SOP': '4.5',\n",
    " 'LOR': '4.5',\n",
    " 'CGPA': '9.65',\n",
    " 'Research': '1',\n",
    " 'Chance of Admit': '0.92'},\n",
    "  {\n",
    "    'Serial No': '9996',\n",
    " 'GRE Score': '336',\n",
    " 'TOEFL Score': '118',\n",
    " 'University Rating': '4',\n",
    " 'SOP': '4.5',\n",
    " 'LOR': '4.5',\n",
    " 'CGPA': '9.6',\n",
    " 'Research': '0',\n",
    " 'Chance of Admit': '0.92'},\n",
    "  {\n",
    "    'Serial No': '9995',\n",
    " 'GRE Score': '337',\n",
    " 'TOEFL Score': '118',\n",
    " 'University Rating': '4',\n",
    " 'SOP': '4.5',\n",
    " 'LOR': '4.5',\n",
    " 'CGPA': '9.5',\n",
    " 'Research': '1',\n",
    " 'Chance of Admit': '0.92'},\n",
    "  {\n",
    "    'Serial No': '9994',\n",
    " 'GRE Score': '334',\n",
    " 'TOEFL Score': '119',\n",
    " 'University Rating': '4',\n",
    " 'SOP': '4.5',\n",
    " 'LOR': '4.5',\n",
    " 'CGPA': '9.4',\n",
    " 'Research': '1',\n",
    " 'Chance of Admit': '0.92'},\n",
    "  {\n",
    "    'Serial No': '9993',\n",
    " 'GRE Score': '337',\n",
    " 'TOEFL Score': '118',\n",
    " 'University Rating': '4',\n",
    " 'SOP': '4.5',\n",
    " 'LOR': '4.5',\n",
    " 'CGPA': '9.65',\n",
    " 'Research': '1',\n",
    " 'Chance of Admit': '0.92'}\n",
    "\n",
    "]"
   ]
  },
  {
   "cell_type": "code",
   "execution_count": 21,
   "id": "e0977dc5",
   "metadata": {},
   "outputs": [],
   "source": [
    "x = collection.insert_many(my_rows) "
   ]
  },
  {
   "cell_type": "code",
   "execution_count": 22,
   "id": "36cb38cf",
   "metadata": {},
   "outputs": [
    {
     "name": "stdout",
     "output_type": "stream",
     "text": [
      "[ObjectId('627fde40a6ada4a17e74c947'), ObjectId('627fde40a6ada4a17e74c948'), ObjectId('627fde40a6ada4a17e74c949'), ObjectId('627fde40a6ada4a17e74c94a'), ObjectId('627fde40a6ada4a17e74c94b')]\n"
     ]
    }
   ],
   "source": [
    "print(x.inserted_ids) "
   ]
  },
  {
   "cell_type": "code",
   "execution_count": 23,
   "id": "8da288b3",
   "metadata": {},
   "outputs": [],
   "source": [
    "result= collection.find({}) "
   ]
  },
  {
   "cell_type": "code",
   "execution_count": 24,
   "id": "73de62f5",
   "metadata": {},
   "outputs": [
    {
     "data": {
      "text/plain": [
       "<pymongo.cursor.Cursor at 0x21d994553a0>"
      ]
     },
     "execution_count": 24,
     "metadata": {},
     "output_type": "execute_result"
    }
   ],
   "source": [
    "result"
   ]
  },
  {
   "cell_type": "code",
   "execution_count": 25,
   "id": "401d2a02",
   "metadata": {},
   "outputs": [
    {
     "name": "stdout",
     "output_type": "stream",
     "text": [
      "<pymongo.cursor.Cursor object at 0x0000021D994553A0>\n"
     ]
    }
   ],
   "source": [
    "print(result)"
   ]
  },
  {
   "cell_type": "code",
   "execution_count": 26,
   "id": "692be5de",
   "metadata": {},
   "outputs": [
    {
     "data": {
      "text/plain": [
       "<pymongo.cursor.Cursor at 0x21d994553a0>"
      ]
     },
     "execution_count": 26,
     "metadata": {},
     "output_type": "execute_result"
    }
   ],
   "source": [
    "result[:]"
   ]
  },
  {
   "cell_type": "code",
   "execution_count": 27,
   "id": "c8e64235",
   "metadata": {},
   "outputs": [
    {
     "data": {
      "text/plain": [
       "{'_id': ObjectId('627fde40a6ada4a17e74c949'),\n",
       " 'Serial No': '9995',\n",
       " 'GRE Score': '337',\n",
       " 'TOEFL Score': '118',\n",
       " 'University Rating': '4',\n",
       " 'SOP': '4.5',\n",
       " 'LOR': '4.5',\n",
       " 'CGPA': '9.5',\n",
       " 'Research': '1',\n",
       " 'Chance of Admit': '0.92'}"
      ]
     },
     "execution_count": 27,
     "metadata": {},
     "output_type": "execute_result"
    }
   ],
   "source": [
    "result[3]"
   ]
  },
  {
   "cell_type": "code",
   "execution_count": 28,
   "id": "6425cdd3",
   "metadata": {},
   "outputs": [
    {
     "data": {
      "text/plain": [
       "pymongo.cursor.Cursor"
      ]
     },
     "execution_count": 28,
     "metadata": {},
     "output_type": "execute_result"
    }
   ],
   "source": [
    "type(result)"
   ]
  },
  {
   "cell_type": "code",
   "execution_count": 30,
   "id": "248d694d",
   "metadata": {},
   "outputs": [
    {
     "name": "stdout",
     "output_type": "stream",
     "text": [
      "{'_id': ObjectId('627fdd54a6ada4a17e74c946'), 'Serial No': '9998', 'GRE Score': '337', 'TOEFL Score': '118', 'University Rating': '4', 'SOP': '4.5', 'LOR': '4.5', 'CGPA': '9.65', 'Research': '1', 'Chance of Admit': '0.92'}\n",
      "{'_id': ObjectId('627fde40a6ada4a17e74c947'), 'Serial No': '9997', 'GRE Score': '337', 'TOEFL Score': '118', 'University Rating': '4', 'SOP': '4.5', 'LOR': '4.5', 'CGPA': '9.65', 'Research': '1', 'Chance of Admit': '0.92'}\n",
      "{'_id': ObjectId('627fde40a6ada4a17e74c948'), 'Serial No': '9996', 'GRE Score': '336', 'TOEFL Score': '118', 'University Rating': '4', 'SOP': '4.5', 'LOR': '4.5', 'CGPA': '9.6', 'Research': '0', 'Chance of Admit': '0.92'}\n",
      "{'_id': ObjectId('627fde40a6ada4a17e74c949'), 'Serial No': '9995', 'GRE Score': '337', 'TOEFL Score': '118', 'University Rating': '4', 'SOP': '4.5', 'LOR': '4.5', 'CGPA': '9.5', 'Research': '1', 'Chance of Admit': '0.92'}\n",
      "{'_id': ObjectId('627fde40a6ada4a17e74c94a'), 'Serial No': '9994', 'GRE Score': '334', 'TOEFL Score': '119', 'University Rating': '4', 'SOP': '4.5', 'LOR': '4.5', 'CGPA': '9.4', 'Research': '1', 'Chance of Admit': '0.92'}\n"
     ]
    }
   ],
   "source": [
    "result_total= collection.find({}).limit(5)\n",
    "for res in result_total:\n",
    "    print(res)"
   ]
  },
  {
   "cell_type": "code",
   "execution_count": 31,
   "id": "2bf83257",
   "metadata": {},
   "outputs": [],
   "source": [
    "result_some= collection.find({}, {'GRE Score','TOEFL Score'}) "
   ]
  },
  {
   "cell_type": "code",
   "execution_count": 32,
   "id": "1aa72611",
   "metadata": {},
   "outputs": [
    {
     "data": {
      "text/plain": [
       "<pymongo.cursor.Cursor at 0x21d98ccb070>"
      ]
     },
     "execution_count": 32,
     "metadata": {},
     "output_type": "execute_result"
    }
   ],
   "source": [
    "result_some"
   ]
  },
  {
   "cell_type": "code",
   "execution_count": 33,
   "id": "aedcd847",
   "metadata": {},
   "outputs": [
    {
     "name": "stdout",
     "output_type": "stream",
     "text": [
      "{'_id': ObjectId('627fdd54a6ada4a17e74c946'), 'GRE Score': '337', 'TOEFL Score': '118'}\n",
      "{'_id': ObjectId('627fde40a6ada4a17e74c947'), 'GRE Score': '337', 'TOEFL Score': '118'}\n",
      "{'_id': ObjectId('627fde40a6ada4a17e74c948'), 'GRE Score': '336', 'TOEFL Score': '118'}\n",
      "{'_id': ObjectId('627fde40a6ada4a17e74c949'), 'GRE Score': '337', 'TOEFL Score': '118'}\n",
      "{'_id': ObjectId('627fde40a6ada4a17e74c94a'), 'GRE Score': '334', 'TOEFL Score': '119'}\n",
      "{'_id': ObjectId('627fde40a6ada4a17e74c94b'), 'GRE Score': '337', 'TOEFL Score': '118'}\n"
     ]
    }
   ],
   "source": [
    "for res in result_some:\n",
    "    print(res)"
   ]
  },
  {
   "cell_type": "code",
   "execution_count": 34,
   "id": "5928079b",
   "metadata": {},
   "outputs": [
    {
     "name": "stdout",
     "output_type": "stream",
     "text": [
      "{'_id': ObjectId('627fdd54a6ada4a17e74c946'), 'Serial No': '9998', 'GRE Score': '337', 'TOEFL Score': '118', 'University Rating': '4', 'SOP': '4.5', 'LOR': '4.5', 'CGPA': '9.65', 'Research': '1', 'Chance of Admit': '0.92'}\n",
      "{'_id': ObjectId('627fde40a6ada4a17e74c947'), 'Serial No': '9997', 'GRE Score': '337', 'TOEFL Score': '118', 'University Rating': '4', 'SOP': '4.5', 'LOR': '4.5', 'CGPA': '9.65', 'Research': '1', 'Chance of Admit': '0.92'}\n",
      "{'_id': ObjectId('627fde40a6ada4a17e74c949'), 'Serial No': '9995', 'GRE Score': '337', 'TOEFL Score': '118', 'University Rating': '4', 'SOP': '4.5', 'LOR': '4.5', 'CGPA': '9.5', 'Research': '1', 'Chance of Admit': '0.92'}\n",
      "{'_id': ObjectId('627fde40a6ada4a17e74c94b'), 'Serial No': '9993', 'GRE Score': '337', 'TOEFL Score': '118', 'University Rating': '4', 'SOP': '4.5', 'LOR': '4.5', 'CGPA': '9.65', 'Research': '1', 'Chance of Admit': '0.92'}\n"
     ]
    }
   ],
   "source": [
    "my_db_query={'GRE Score':'337'}\n",
    "result_GRE= collection.find(my_db_query)\n",
    "for res in result_GRE:\n",
    "    print(res)"
   ]
  },
  {
   "cell_type": "code",
   "execution_count": 46,
   "id": "b7244557",
   "metadata": {},
   "outputs": [
    {
     "name": "stdout",
     "output_type": "stream",
     "text": [
      "{'_id': ObjectId('627fde40a6ada4a17e74c947'), 'Serial No': '9997', 'GRE Score': '337', 'TOEFL Score': '118', 'University Rating': '4', 'SOP': '4.5', 'LOR': '4.5', 'CGPA': '9.65', 'Research': '1', 'Chance of Admit': '0.92'}\n",
      "{'_id': ObjectId('627fde40a6ada4a17e74c948'), 'Serial No': '9996', 'GRE Score': '350', 'TOEFL Score': '118', 'University Rating': '4', 'SOP': '4.5', 'LOR': '4.5', 'CGPA': '9.6', 'Research': '0', 'Chance of Admit': '0.92'}\n",
      "{'_id': ObjectId('627fde40a6ada4a17e74c949'), 'Serial No': '9995', 'GRE Score': '337', 'TOEFL Score': '118', 'University Rating': '4', 'SOP': '4.5', 'LOR': '4.5', 'CGPA': '9.5', 'Research': '1', 'Chance of Admit': '0.92'}\n",
      "{'_id': ObjectId('627fde40a6ada4a17e74c94a'), 'Serial No': '9994', 'GRE Score': '334', 'TOEFL Score': '119', 'University Rating': '4', 'SOP': '4.5', 'LOR': '4.5', 'CGPA': '9.4', 'Research': '1', 'Chance of Admit': '0.92'}\n",
      "{'_id': ObjectId('627fde40a6ada4a17e74c94b'), 'Serial No': '9993', 'GRE Score': '337', 'TOEFL Score': '118', 'University Rating': '4', 'SOP': '4.5', 'LOR': '4.5', 'CGPA': '9.65', 'Research': '1', 'Chance of Admit': '0.92'}\n"
     ]
    }
   ],
   "source": [
    "my_db_query={'GRE Score':{'$gt':'337'}}\n",
    "result_GRE= collection.find()\n",
    "for res in result_GRE:\n",
    "    print(res)"
   ]
  },
  {
   "cell_type": "code",
   "execution_count": 36,
   "id": "3ba12ce2",
   "metadata": {},
   "outputs": [
    {
     "data": {
      "text/plain": [
       "{'GRE Score': {'$gt': '337'}}"
      ]
     },
     "execution_count": 36,
     "metadata": {},
     "output_type": "execute_result"
    }
   ],
   "source": [
    "my_db_query"
   ]
  },
  {
   "cell_type": "code",
   "execution_count": 45,
   "id": "453d5016",
   "metadata": {},
   "outputs": [
    {
     "name": "stdout",
     "output_type": "stream",
     "text": [
      "{'_id': ObjectId('627fde40a6ada4a17e74c94a'), 'Serial No': '9994', 'GRE Score': '334', 'TOEFL Score': '119', 'University Rating': '4', 'SOP': '4.5', 'LOR': '4.5', 'CGPA': '9.4', 'Research': '1', 'Chance of Admit': '0.92'}\n",
      "{'_id': ObjectId('627fde40a6ada4a17e74c947'), 'Serial No': '9997', 'GRE Score': '337', 'TOEFL Score': '118', 'University Rating': '4', 'SOP': '4.5', 'LOR': '4.5', 'CGPA': '9.65', 'Research': '1', 'Chance of Admit': '0.92'}\n",
      "{'_id': ObjectId('627fde40a6ada4a17e74c949'), 'Serial No': '9995', 'GRE Score': '337', 'TOEFL Score': '118', 'University Rating': '4', 'SOP': '4.5', 'LOR': '4.5', 'CGPA': '9.5', 'Research': '1', 'Chance of Admit': '0.92'}\n",
      "{'_id': ObjectId('627fde40a6ada4a17e74c94b'), 'Serial No': '9993', 'GRE Score': '337', 'TOEFL Score': '118', 'University Rating': '4', 'SOP': '4.5', 'LOR': '4.5', 'CGPA': '9.65', 'Research': '1', 'Chance of Admit': '0.92'}\n",
      "{'_id': ObjectId('627fde40a6ada4a17e74c948'), 'Serial No': '9996', 'GRE Score': '350', 'TOEFL Score': '118', 'University Rating': '4', 'SOP': '4.5', 'LOR': '4.5', 'CGPA': '9.6', 'Research': '0', 'Chance of Admit': '0.92'}\n"
     ]
    }
   ],
   "source": [
    "result_GRE= collection.find().sort('GRE Score')\n",
    "for res in result_GRE:\n",
    "    print(res) "
   ]
  },
  {
   "cell_type": "code",
   "execution_count": 40,
   "id": "f721ceef",
   "metadata": {},
   "outputs": [
    {
     "name": "stdout",
     "output_type": "stream",
     "text": [
      "1\n"
     ]
    }
   ],
   "source": [
    "my_db_query={'GRE Score':'337'}\n",
    "x=collection.delete_one(my_db_query) # the deletion step\n",
    "print(x.deleted_count)"
   ]
  },
  {
   "cell_type": "code",
   "execution_count": 41,
   "id": "6c93907e",
   "metadata": {},
   "outputs": [],
   "source": [
    "collection_to_drop=db['test_collection'] # drops the entire collection named 'test collection'\n",
    "collection_to_drop.drop()"
   ]
  },
  {
   "cell_type": "code",
   "execution_count": 43,
   "id": "699402c6",
   "metadata": {},
   "outputs": [
    {
     "name": "stdout",
     "output_type": "stream",
     "text": [
      "1\n"
     ]
    }
   ],
   "source": [
    "update_criteria={'GRE Score':'336'}\n",
    "new_values= { \"$set\": { \"GRE Score\": \"350\" } }\n",
    "\n",
    "x = collection.update_many(update_criteria, new_values)\n",
    "\n",
    "print(x.modified_count)"
   ]
  },
  {
   "cell_type": "code",
   "execution_count": 44,
   "id": "009af08c",
   "metadata": {},
   "outputs": [
    {
     "name": "stdout",
     "output_type": "stream",
     "text": [
      "{'_id': ObjectId('627fde40a6ada4a17e74c947'), 'Serial No': '9997', 'GRE Score': '337', 'TOEFL Score': '118', 'University Rating': '4', 'SOP': '4.5', 'LOR': '4.5', 'CGPA': '9.65', 'Research': '1', 'Chance of Admit': '0.92'}\n",
      "{'_id': ObjectId('627fde40a6ada4a17e74c949'), 'Serial No': '9995', 'GRE Score': '337', 'TOEFL Score': '118', 'University Rating': '4', 'SOP': '4.5', 'LOR': '4.5', 'CGPA': '9.5', 'Research': '1', 'Chance of Admit': '0.92'}\n",
      "{'_id': ObjectId('627fde40a6ada4a17e74c94b'), 'Serial No': '9993', 'GRE Score': '337', 'TOEFL Score': '118', 'University Rating': '4', 'SOP': '4.5', 'LOR': '4.5', 'CGPA': '9.65', 'Research': '1', 'Chance of Admit': '0.92'}\n"
     ]
    }
   ],
   "source": [
    "result_GRE= collection.find(my_db_query).sort('GRE Score',-1)\n",
    "for res in result_GRE:\n",
    "    print(res)"
   ]
  },
  {
   "cell_type": "code",
   "execution_count": null,
   "id": "38183324",
   "metadata": {},
   "outputs": [],
   "source": []
  }
 ],
 "metadata": {
  "kernelspec": {
   "display_name": "Python 3 (ipykernel)",
   "language": "python",
   "name": "python3"
  },
  "language_info": {
   "codemirror_mode": {
    "name": "ipython",
    "version": 3
   },
   "file_extension": ".py",
   "mimetype": "text/x-python",
   "name": "python",
   "nbconvert_exporter": "python",
   "pygments_lexer": "ipython3",
   "version": "3.9.7"
  }
 },
 "nbformat": 4,
 "nbformat_minor": 5
}
