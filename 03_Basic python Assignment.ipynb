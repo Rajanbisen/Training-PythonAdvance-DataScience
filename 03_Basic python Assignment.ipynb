{
 "cells": [
  {
   "cell_type": "code",
   "execution_count": 2,
   "id": "631e43ee",
   "metadata": {},
   "outputs": [
    {
     "data": {
      "text/plain": [
       "2401"
      ]
     },
     "execution_count": 2,
     "metadata": {},
     "output_type": "execute_result"
    }
   ],
   "source": [
    "7**4"
   ]
  },
  {
   "cell_type": "code",
   "execution_count": 10,
   "id": "35d0d6cf",
   "metadata": {},
   "outputs": [],
   "source": [
    "s=\"Hi there Yogesh!\""
   ]
  },
  {
   "cell_type": "code",
   "execution_count": 35,
   "id": "25fff8f6",
   "metadata": {},
   "outputs": [
    {
     "data": {
      "text/plain": [
       "['Hi', 'there', 'Yogesh!']"
      ]
     },
     "execution_count": 35,
     "metadata": {},
     "output_type": "execute_result"
    }
   ],
   "source": [
    "\"Hi there Yogesh!\".split()"
   ]
  },
  {
   "cell_type": "code",
   "execution_count": 1,
   "id": "0f727ad0",
   "metadata": {},
   "outputs": [
    {
     "ename": "NameError",
     "evalue": "name 's' is not defined",
     "output_type": "error",
     "traceback": [
      "\u001b[1;31m---------------------------------------------------------------------------\u001b[0m",
      "\u001b[1;31mNameError\u001b[0m                                 Traceback (most recent call last)",
      "\u001b[1;32m~\\AppData\\Local\\Temp/ipykernel_5884/2928312426.py\u001b[0m in \u001b[0;36m<module>\u001b[1;34m\u001b[0m\n\u001b[1;32m----> 1\u001b[1;33m \u001b[0mtype\u001b[0m\u001b[1;33m(\u001b[0m\u001b[0ms\u001b[0m\u001b[1;33m)\u001b[0m\u001b[1;33m\u001b[0m\u001b[1;33m\u001b[0m\u001b[0m\n\u001b[0m",
      "\u001b[1;31mNameError\u001b[0m: name 's' is not defined"
     ]
    }
   ],
   "source": [
    "type(s)"
   ]
  },
  {
   "cell_type": "code",
   "execution_count": 24,
   "id": "0e364c33",
   "metadata": {},
   "outputs": [
    {
     "data": {
      "text/plain": [
       "['Hi there Yogesh!']"
      ]
     },
     "execution_count": 24,
     "metadata": {},
     "output_type": "execute_result"
    }
   ],
   "source": [
    "s.split(\",\")"
   ]
  },
  {
   "cell_type": "code",
   "execution_count": 27,
   "id": "1afe0dfd",
   "metadata": {},
   "outputs": [
    {
     "ename": "NameError",
     "evalue": "name 'find_dog' is not defined",
     "output_type": "error",
     "traceback": [
      "\u001b[1;31m---------------------------------------------------------------------------\u001b[0m",
      "\u001b[1;31mNameError\u001b[0m                                 Traceback (most recent call last)",
      "\u001b[1;32m~\\AppData\\Local\\Temp/ipykernel_5732/3945745853.py\u001b[0m in \u001b[0;36m<module>\u001b[1;34m\u001b[0m\n\u001b[1;32m----> 1\u001b[1;33m \u001b[0mfind_dog\u001b[0m\u001b[1;33m(\u001b[0m\u001b[1;34m'This dog'\u001b[0m\u001b[1;33m)\u001b[0m\u001b[1;33m\u001b[0m\u001b[1;33m\u001b[0m\u001b[0m\n\u001b[0m",
      "\u001b[1;31mNameError\u001b[0m: name 'find_dog' is not defined"
     ]
    }
   ],
   "source": [
    "find_dog('This dog')"
   ]
  },
  {
   "cell_type": "code",
   "execution_count": 28,
   "id": "5c01e475",
   "metadata": {},
   "outputs": [],
   "source": [
    "def find_dog(string):\n",
    "    result= 'dog'in string\n",
    "    return result"
   ]
  },
  {
   "cell_type": "code",
   "execution_count": 29,
   "id": "6291e361",
   "metadata": {},
   "outputs": [
    {
     "data": {
      "text/plain": [
       "True"
      ]
     },
     "execution_count": 29,
     "metadata": {},
     "output_type": "execute_result"
    }
   ],
   "source": [
    "find_dog('This dog')"
   ]
  },
  {
   "cell_type": "code",
   "execution_count": 32,
   "id": "d1f708f4",
   "metadata": {},
   "outputs": [],
   "source": [
    "def find_dog(s):\n",
    "    return (dog)"
   ]
  },
  {
   "cell_type": "code",
   "execution_count": 33,
   "id": "2bff8bd2",
   "metadata": {},
   "outputs": [
    {
     "data": {
      "text/plain": [
       "<function __main__.find_dog(s)>"
      ]
     },
     "execution_count": 33,
     "metadata": {},
     "output_type": "execute_result"
    }
   ],
   "source": [
    "find_dog"
   ]
  },
  {
   "cell_type": "code",
   "execution_count": 37,
   "id": "dd0a290a",
   "metadata": {},
   "outputs": [],
   "source": [
    "def find_dog(s):\n",
    "    return 'dog' in s.lower().split()"
   ]
  },
  {
   "cell_type": "code",
   "execution_count": 39,
   "id": "57bd5fdb",
   "metadata": {},
   "outputs": [
    {
     "data": {
      "text/plain": [
       "True"
      ]
     },
     "execution_count": 39,
     "metadata": {},
     "output_type": "execute_result"
    }
   ],
   "source": [
    "find_dog('This is dog')"
   ]
  },
  {
   "cell_type": "code",
   "execution_count": 40,
   "id": "c4ddd0e1",
   "metadata": {},
   "outputs": [],
   "source": [
    "def find_dog(s):\n",
    "    return 'dog' in s.lower()"
   ]
  },
  {
   "cell_type": "code",
   "execution_count": 41,
   "id": "168fd816",
   "metadata": {},
   "outputs": [
    {
     "data": {
      "text/plain": [
       "True"
      ]
     },
     "execution_count": 41,
     "metadata": {},
     "output_type": "execute_result"
    }
   ],
   "source": [
    "find_dog('This is dog')"
   ]
  },
  {
   "cell_type": "code",
   "execution_count": 44,
   "id": "f13ab65f",
   "metadata": {},
   "outputs": [
    {
     "data": {
      "text/plain": [
       "False"
      ]
     },
     "execution_count": 44,
     "metadata": {},
     "output_type": "execute_result"
    }
   ],
   "source": [
    "find_dog('This is Bogg')"
   ]
  },
  {
   "cell_type": "code",
   "execution_count": 45,
   "id": "86e316ea",
   "metadata": {},
   "outputs": [],
   "source": [
    "def find_dog(s):\n",
    "    return 'dog' or 'Dog' in s.lower().split()"
   ]
  },
  {
   "cell_type": "code",
   "execution_count": 47,
   "id": "be190cbc",
   "metadata": {},
   "outputs": [
    {
     "data": {
      "text/plain": [
       "'dog'"
      ]
     },
     "execution_count": 47,
     "metadata": {},
     "output_type": "execute_result"
    }
   ],
   "source": [
    "find_dog(\"This is dog\")"
   ]
  },
  {
   "cell_type": "code",
   "execution_count": 49,
   "id": "e48b0905",
   "metadata": {},
   "outputs": [
    {
     "data": {
      "text/plain": [
       "True"
      ]
     },
     "execution_count": 49,
     "metadata": {},
     "output_type": "execute_result"
    }
   ],
   "source": [
    "'dog' in 'This is dog'.lower()"
   ]
  },
  {
   "cell_type": "code",
   "execution_count": 50,
   "id": "fd4633b8",
   "metadata": {},
   "outputs": [
    {
     "data": {
      "text/plain": [
       "True"
      ]
     },
     "execution_count": 50,
     "metadata": {},
     "output_type": "execute_result"
    }
   ],
   "source": [
    "'dog' in 'This is dog'.lower().split()"
   ]
  },
  {
   "cell_type": "code",
   "execution_count": 51,
   "id": "76fd64ba",
   "metadata": {},
   "outputs": [
    {
     "data": {
      "text/plain": [
       "['this', 'is', 'dog']"
      ]
     },
     "execution_count": 51,
     "metadata": {},
     "output_type": "execute_result"
    }
   ],
   "source": [
    "'This is dog'.lower().split()"
   ]
  },
  {
   "cell_type": "code",
   "execution_count": 53,
   "id": "4b132cca",
   "metadata": {},
   "outputs": [],
   "source": [
    "def find_dog(a):\n",
    "    return 'dog' in a.lower()"
   ]
  },
  {
   "cell_type": "code",
   "execution_count": 54,
   "id": "69235071",
   "metadata": {},
   "outputs": [
    {
     "data": {
      "text/plain": [
       "True"
      ]
     },
     "execution_count": 54,
     "metadata": {},
     "output_type": "execute_result"
    }
   ],
   "source": [
    "find_dog('This is dog')"
   ]
  },
  {
   "cell_type": "code",
   "execution_count": 58,
   "id": "f85c2dcd",
   "metadata": {},
   "outputs": [],
   "source": [
    "def count_dog(s):\n",
    "    return s.count(\"dog\")"
   ]
  },
  {
   "cell_type": "code",
   "execution_count": 61,
   "id": "36108b2f",
   "metadata": {},
   "outputs": [
    {
     "data": {
      "text/plain": [
       "2"
      ]
     },
     "execution_count": 61,
     "metadata": {},
     "output_type": "execute_result"
    }
   ],
   "source": [
    "count_dog(\"dog is your best dog\")"
   ]
  },
  {
   "cell_type": "code",
   "execution_count": 1,
   "id": "da330a4c",
   "metadata": {},
   "outputs": [
    {
     "data": {
      "text/plain": [
       "2401"
      ]
     },
     "execution_count": 1,
     "metadata": {},
     "output_type": "execute_result"
    }
   ],
   "source": [
    "7**4"
   ]
  },
  {
   "cell_type": "code",
   "execution_count": 2,
   "id": "77f5f3d7",
   "metadata": {},
   "outputs": [],
   "source": [
    "s=\"Hi there is Yogesh!\""
   ]
  },
  {
   "cell_type": "code",
   "execution_count": 3,
   "id": "6a740bed",
   "metadata": {},
   "outputs": [
    {
     "data": {
      "text/plain": [
       "'Hi there is Yogesh!'"
      ]
     },
     "execution_count": 3,
     "metadata": {},
     "output_type": "execute_result"
    }
   ],
   "source": [
    "s"
   ]
  },
  {
   "cell_type": "code",
   "execution_count": 4,
   "id": "fa7099d5",
   "metadata": {},
   "outputs": [
    {
     "ename": "AttributeError",
     "evalue": "'str' object has no attribute 's'",
     "output_type": "error",
     "traceback": [
      "\u001b[1;31m---------------------------------------------------------------------------\u001b[0m",
      "\u001b[1;31mAttributeError\u001b[0m                            Traceback (most recent call last)",
      "\u001b[1;32m~\\AppData\\Local\\Temp/ipykernel_9820/999858079.py\u001b[0m in \u001b[0;36m<module>\u001b[1;34m\u001b[0m\n\u001b[1;32m----> 1\u001b[1;33m \u001b[1;34m\"Hi there is Yogesh!\"\u001b[0m\u001b[1;33m.\u001b[0m\u001b[0ms\u001b[0m\u001b[1;33m.\u001b[0m\u001b[0msplit\u001b[0m\u001b[1;33m(\u001b[0m\u001b[1;33m)\u001b[0m\u001b[1;33m\u001b[0m\u001b[1;33m\u001b[0m\u001b[0m\n\u001b[0m",
      "\u001b[1;31mAttributeError\u001b[0m: 'str' object has no attribute 's'"
     ]
    }
   ],
   "source": [
    "\"Hi there is Yogesh!\".s.split()"
   ]
  },
  {
   "cell_type": "code",
   "execution_count": 5,
   "id": "c9d9bad3",
   "metadata": {},
   "outputs": [
    {
     "data": {
      "text/plain": [
       "['', '']"
      ]
     },
     "execution_count": 5,
     "metadata": {},
     "output_type": "execute_result"
    }
   ],
   "source": [
    "s.split(\"Hi there is Yogesh!\")"
   ]
  },
  {
   "cell_type": "code",
   "execution_count": 6,
   "id": "0056acb5",
   "metadata": {},
   "outputs": [
    {
     "data": {
      "text/plain": [
       "['Hi', 'there', 'is', 'Yogesh!']"
      ]
     },
     "execution_count": 6,
     "metadata": {},
     "output_type": "execute_result"
    }
   ],
   "source": [
    "\"Hi there is Yogesh!\".split()"
   ]
  },
  {
   "cell_type": "code",
   "execution_count": 16,
   "id": "34a11975",
   "metadata": {},
   "outputs": [],
   "source": [
    "planet=\"Earth\"\n",
    "diameter=12742"
   ]
  },
  {
   "cell_type": "code",
   "execution_count": 18,
   "id": "f0a896dd",
   "metadata": {},
   "outputs": [
    {
     "data": {
      "text/plain": [
       "'The diameter of Earth is 12742 kilometer'"
      ]
     },
     "execution_count": 18,
     "metadata": {},
     "output_type": "execute_result"
    }
   ],
   "source": [
    "\"The diameter of {} is {} kilometer\".format(planet,diameter)"
   ]
  },
  {
   "cell_type": "code",
   "execution_count": 3,
   "id": "390fb770",
   "metadata": {},
   "outputs": [],
   "source": [
    "lst=[1,2,[3,4],[5,[100,200,['hello']],23,11],1,7]"
   ]
  },
  {
   "cell_type": "code",
   "execution_count": 4,
   "id": "2c2539d1",
   "metadata": {},
   "outputs": [
    {
     "data": {
      "text/plain": [
       "[1, 2, [3, 4], [5, [100, 200, ['hello']], 23, 11], 1, 7]"
      ]
     },
     "execution_count": 4,
     "metadata": {},
     "output_type": "execute_result"
    }
   ],
   "source": [
    "lst"
   ]
  },
  {
   "cell_type": "code",
   "execution_count": 9,
   "id": "072a5d2c",
   "metadata": {},
   "outputs": [
    {
     "data": {
      "text/plain": [
       "2"
      ]
     },
     "execution_count": 9,
     "metadata": {},
     "output_type": "execute_result"
    }
   ],
   "source": [
    "lst[1]"
   ]
  },
  {
   "cell_type": "code",
   "execution_count": 10,
   "id": "5c2ed960",
   "metadata": {},
   "outputs": [
    {
     "data": {
      "text/plain": [
       "[3, 4]"
      ]
     },
     "execution_count": 10,
     "metadata": {},
     "output_type": "execute_result"
    }
   ],
   "source": [
    "lst[2]"
   ]
  },
  {
   "cell_type": "code",
   "execution_count": 11,
   "id": "1182bf89",
   "metadata": {},
   "outputs": [
    {
     "data": {
      "text/plain": [
       "[5, [100, 200, ['hello']], 23, 11]"
      ]
     },
     "execution_count": 11,
     "metadata": {},
     "output_type": "execute_result"
    }
   ],
   "source": [
    "lst[3]"
   ]
  },
  {
   "cell_type": "code",
   "execution_count": 12,
   "id": "8332b1bb",
   "metadata": {},
   "outputs": [
    {
     "data": {
      "text/plain": [
       "1"
      ]
     },
     "execution_count": 12,
     "metadata": {},
     "output_type": "execute_result"
    }
   ],
   "source": [
    "lst[4]"
   ]
  },
  {
   "cell_type": "code",
   "execution_count": 13,
   "id": "6ed3932b",
   "metadata": {},
   "outputs": [
    {
     "data": {
      "text/plain": [
       "[100, 200, ['hello']]"
      ]
     },
     "execution_count": 13,
     "metadata": {},
     "output_type": "execute_result"
    }
   ],
   "source": [
    "lst[3][1]"
   ]
  },
  {
   "cell_type": "code",
   "execution_count": 14,
   "id": "d7db512d",
   "metadata": {},
   "outputs": [
    {
     "data": {
      "text/plain": [
       "['hello']"
      ]
     },
     "execution_count": 14,
     "metadata": {},
     "output_type": "execute_result"
    }
   ],
   "source": [
    "lst[3][1][2]"
   ]
  },
  {
   "cell_type": "code",
   "execution_count": 15,
   "id": "f79b9080",
   "metadata": {},
   "outputs": [
    {
     "data": {
      "text/plain": [
       "'hello'"
      ]
     },
     "execution_count": 15,
     "metadata": {},
     "output_type": "execute_result"
    }
   ],
   "source": [
    "lst[3][1][2][0]"
   ]
  },
  {
   "cell_type": "code",
   "execution_count": 17,
   "id": "db4263fa",
   "metadata": {},
   "outputs": [],
   "source": [
    "seq = ['soup','dog','salad','cat','great']"
   ]
  },
  {
   "cell_type": "code",
   "execution_count": 18,
   "id": "ce551a6d",
   "metadata": {},
   "outputs": [
    {
     "data": {
      "text/plain": [
       "['soup', 'dog', 'salad', 'cat', 'great']"
      ]
     },
     "execution_count": 18,
     "metadata": {},
     "output_type": "execute_result"
    }
   ],
   "source": [
    "seq"
   ]
  },
  {
   "cell_type": "code",
   "execution_count": 21,
   "id": "8ab41bb6",
   "metadata": {},
   "outputs": [
    {
     "data": {
      "text/plain": [
       "list"
      ]
     },
     "execution_count": 21,
     "metadata": {},
     "output_type": "execute_result"
    }
   ],
   "source": [
    "type(seq)"
   ]
  },
  {
   "cell_type": "code",
   "execution_count": 25,
   "id": "c1a8b6ae",
   "metadata": {},
   "outputs": [],
   "source": [
    "lambda1=lambda v:v[0]!='s'"
   ]
  },
  {
   "cell_type": "code",
   "execution_count": 26,
   "id": "1614494e",
   "metadata": {},
   "outputs": [
    {
     "data": {
      "text/plain": [
       "['soup', 'dog', 'salad', 'cat', 'great']"
      ]
     },
     "execution_count": 26,
     "metadata": {},
     "output_type": "execute_result"
    }
   ],
   "source": [
    "seq"
   ]
  },
  {
   "cell_type": "code",
   "execution_count": 28,
   "id": "860fb677",
   "metadata": {},
   "outputs": [
    {
     "data": {
      "text/plain": [
       "['dog', 'cat', 'great']"
      ]
     },
     "execution_count": 28,
     "metadata": {},
     "output_type": "execute_result"
    }
   ],
   "source": [
    "list(filter(lambda1,seq))"
   ]
  },
  {
   "cell_type": "code",
   "execution_count": 34,
   "id": "ace7a200",
   "metadata": {},
   "outputs": [
    {
     "ename": "SyntaxError",
     "evalue": "positional argument follows keyword argument (Temp/ipykernel_5428/733596328.py, line 1)",
     "output_type": "error",
     "traceback": [
      "\u001b[1;36m  File \u001b[1;32m\"C:\\Users\\HP\\AppData\\Local\\Temp/ipykernel_5428/733596328.py\"\u001b[1;36m, line \u001b[1;32m1\u001b[0m\n\u001b[1;33m    list(filter(lambda1=lambda v:v[0]=='s',seq))\u001b[0m\n\u001b[1;37m                                              ^\u001b[0m\n\u001b[1;31mSyntaxError\u001b[0m\u001b[1;31m:\u001b[0m positional argument follows keyword argument\n"
     ]
    }
   ],
   "source": [
    "list(filter(lambda1=lambda v:v[0]=='s',seq))\n"
   ]
  },
  {
   "cell_type": "code",
   "execution_count": 32,
   "id": "03816620",
   "metadata": {},
   "outputs": [
    {
     "data": {
      "text/plain": [
       "[False, True, False, True, True]"
      ]
     },
     "execution_count": 32,
     "metadata": {},
     "output_type": "execute_result"
    }
   ],
   "source": [
    "list(map(lambda1,seq))"
   ]
  },
  {
   "cell_type": "code",
   "execution_count": 35,
   "id": "9f8c0296",
   "metadata": {},
   "outputs": [
    {
     "data": {
      "text/plain": [
       "['soup', 'dog', 'salad', 'cat', 'great']"
      ]
     },
     "execution_count": 35,
     "metadata": {},
     "output_type": "execute_result"
    }
   ],
   "source": [
    "seq"
   ]
  },
  {
   "cell_type": "code",
   "execution_count": 36,
   "id": "7e7e2003",
   "metadata": {},
   "outputs": [],
   "source": [
    "lambda1=lambda x:x[0]!='s'"
   ]
  },
  {
   "cell_type": "code",
   "execution_count": 37,
   "id": "7c16dfd6",
   "metadata": {},
   "outputs": [
    {
     "data": {
      "text/plain": [
       "<function __main__.<lambda>(x)>"
      ]
     },
     "execution_count": 37,
     "metadata": {},
     "output_type": "execute_result"
    }
   ],
   "source": [
    "lambda1"
   ]
  },
  {
   "cell_type": "code",
   "execution_count": 41,
   "id": "fcabaddc",
   "metadata": {},
   "outputs": [
    {
     "ename": "SyntaxError",
     "evalue": "positional argument follows keyword argument (Temp/ipykernel_5428/531136823.py, line 1)",
     "output_type": "error",
     "traceback": [
      "\u001b[1;36m  File \u001b[1;32m\"C:\\Users\\HP\\AppData\\Local\\Temp/ipykernel_5428/531136823.py\"\u001b[1;36m, line \u001b[1;32m1\u001b[0m\n\u001b[1;33m    filter(lambda1=lambda x:x[0]!='s', seq)\u001b[0m\n\u001b[1;37m                                          ^\u001b[0m\n\u001b[1;31mSyntaxError\u001b[0m\u001b[1;31m:\u001b[0m positional argument follows keyword argument\n"
     ]
    }
   ],
   "source": [
    "filter(lambda1=lambda x:x[0]!='s', seq)"
   ]
  },
  {
   "cell_type": "code",
   "execution_count": 40,
   "id": "f3c32972",
   "metadata": {},
   "outputs": [
    {
     "ename": "SyntaxError",
     "evalue": "positional argument follows keyword argument (Temp/ipykernel_5428/3394156099.py, line 1)",
     "output_type": "error",
     "traceback": [
      "\u001b[1;36m  File \u001b[1;32m\"C:\\Users\\HP\\AppData\\Local\\Temp/ipykernel_5428/3394156099.py\"\u001b[1;36m, line \u001b[1;32m1\u001b[0m\n\u001b[1;33m    list(filter(lambda1=lambda x:x[0]!='s', seq))\u001b[0m\n\u001b[1;37m                                               ^\u001b[0m\n\u001b[1;31mSyntaxError\u001b[0m\u001b[1;31m:\u001b[0m positional argument follows keyword argument\n"
     ]
    }
   ],
   "source": [
    "list(filter(lambda1=lambda x:x[0]!='s', seq))"
   ]
  },
  {
   "cell_type": "code",
   "execution_count": 46,
   "id": "c64601cf",
   "metadata": {},
   "outputs": [],
   "source": [
    "a=lambda v:len(x)>3"
   ]
  },
  {
   "cell_type": "code",
   "execution_count": 44,
   "id": "12b9cd42",
   "metadata": {},
   "outputs": [
    {
     "data": {
      "text/plain": [
       "['soup', 'dog', 'salad', 'cat', 'great']"
      ]
     },
     "execution_count": 44,
     "metadata": {},
     "output_type": "execute_result"
    }
   ],
   "source": [
    "seq"
   ]
  },
  {
   "cell_type": "code",
   "execution_count": 47,
   "id": "8455f7d5",
   "metadata": {},
   "outputs": [
    {
     "data": {
      "text/plain": [
       "<function __main__.<lambda>(v)>"
      ]
     },
     "execution_count": 47,
     "metadata": {},
     "output_type": "execute_result"
    }
   ],
   "source": [
    "a"
   ]
  },
  {
   "cell_type": "code",
   "execution_count": 51,
   "id": "d2f4007c",
   "metadata": {},
   "outputs": [
    {
     "data": {
      "text/plain": [
       "<function __main__.<lambda>(v)>"
      ]
     },
     "execution_count": 51,
     "metadata": {},
     "output_type": "execute_result"
    }
   ],
   "source": [
    "lambda v:len(v)>3"
   ]
  },
  {
   "cell_type": "code",
   "execution_count": 54,
   "id": "ea6bc3ed",
   "metadata": {},
   "outputs": [
    {
     "data": {
      "text/plain": [
       "['soup', 'salad', 'great']"
      ]
     },
     "execution_count": 54,
     "metadata": {},
     "output_type": "execute_result"
    }
   ],
   "source": [
    "list(filter(lambda v:len(v)>3,seq))"
   ]
  },
  {
   "cell_type": "code",
   "execution_count": 66,
   "id": "c480b505",
   "metadata": {},
   "outputs": [
    {
     "ename": "SyntaxError",
     "evalue": "invalid syntax (Temp/ipykernel_5428/2706542938.py, line 5)",
     "output_type": "error",
     "traceback": [
      "\u001b[1;36m  File \u001b[1;32m\"C:\\Users\\HP\\AppData\\Local\\Temp/ipykernel_5428/2706542938.py\"\u001b[1;36m, line \u001b[1;32m5\u001b[0m\n\u001b[1;33m    speed>=60 and birthday is False:\u001b[0m\n\u001b[1;37m                                    ^\u001b[0m\n\u001b[1;31mSyntaxError\u001b[0m\u001b[1;31m:\u001b[0m invalid syntax\n"
     ]
    }
   ],
   "source": [
    "def ticket(speed, birthday):\n",
    "    if speed<=60 and birthday==True:\n",
    "        return \"No Ticket\"\n",
    "    else:\n",
    "        speed>=60 and birthday is False:"
   ]
  },
  {
   "cell_type": "code",
   "execution_count": 69,
   "id": "4f4826c2",
   "metadata": {},
   "outputs": [],
   "source": [
    "def catch_speed(speed, is_birthday):\n",
    "    if is_birthday:\n",
    "        speed2=speed-5\n",
    "    else:\n",
    "        speed2=speed\n",
    "    if speed2>80:\n",
    "        return \"BIG TICKET\"\n",
    "    elif speed2>60:\n",
    "        return \"SMALL TICKET\"\n",
    "    else:\n",
    "        return\"NO TICKET\""
   ]
  },
  {
   "cell_type": "code",
   "execution_count": 70,
   "id": "3f001198",
   "metadata": {},
   "outputs": [
    {
     "data": {
      "text/plain": [
       "'BIG TICKET'"
      ]
     },
     "execution_count": 70,
     "metadata": {},
     "output_type": "execute_result"
    }
   ],
   "source": [
    "catch_speed(88, True)"
   ]
  },
  {
   "cell_type": "code",
   "execution_count": 71,
   "id": "98de15da",
   "metadata": {},
   "outputs": [
    {
     "data": {
      "text/plain": [
       "'SMALL TICKET'"
      ]
     },
     "execution_count": 71,
     "metadata": {},
     "output_type": "execute_result"
    }
   ],
   "source": [
    "catch_speed(65, False)"
   ]
  },
  {
   "cell_type": "code",
   "execution_count": 73,
   "id": "62b1bcee",
   "metadata": {},
   "outputs": [],
   "source": [
    "def catch_speed(speed, is_birthday):\n",
    "    if is_birthday:\n",
    "        speed2=speed-5\n",
    "    else:\n",
    "        speed2=speed\n",
    "    if speed2>80:\n",
    "        return \"BIG TICKET\"\n",
    "    elif speed2>60:\n",
    "        return \"SMALL TICKET\"\n",
    "    else:\n",
    "        return\"NO TICKET\""
   ]
  },
  {
   "cell_type": "code",
   "execution_count": 75,
   "id": "be04bb26",
   "metadata": {},
   "outputs": [
    {
     "name": "stdout",
     "output_type": "stream",
     "text": [
      "Entre the user input56\n"
     ]
    }
   ],
   "source": [
    "a=input(\"Entre the user input\")"
   ]
  },
  {
   "cell_type": "code",
   "execution_count": 76,
   "id": "5aa13430",
   "metadata": {},
   "outputs": [
    {
     "data": {
      "text/plain": [
       "str"
      ]
     },
     "execution_count": 76,
     "metadata": {},
     "output_type": "execute_result"
    }
   ],
   "source": [
    "type(a)"
   ]
  },
  {
   "cell_type": "code",
   "execution_count": 77,
   "id": "cb7fe2a1",
   "metadata": {},
   "outputs": [
    {
     "data": {
      "text/plain": [
       "'56'"
      ]
     },
     "execution_count": 77,
     "metadata": {},
     "output_type": "execute_result"
    }
   ],
   "source": [
    "a"
   ]
  },
  {
   "cell_type": "code",
   "execution_count": 1,
   "id": "4126c608",
   "metadata": {},
   "outputs": [
    {
     "data": {
      "text/plain": [
       "'8'"
      ]
     },
     "execution_count": 1,
     "metadata": {},
     "output_type": "execute_result"
    }
   ],
   "source": [
    "\"\"+\"8\""
   ]
  },
  {
   "cell_type": "code",
   "execution_count": 5,
   "id": "85e55295",
   "metadata": {},
   "outputs": [
    {
     "name": "stdout",
     "output_type": "stream",
     "text": [
      "Entre the input56rjan95-45\n",
      "569545\n"
     ]
    }
   ],
   "source": [
    "s=input(\"Entre the input\")\n",
    "n=\"\"\n",
    "a=[0,1,2,3,4,5,6,7,8,9]\n",
    "if s[0]==\"-\":\n",
    "    n=n+s[0]\n",
    "for c in s:\n",
    "    if c in str(a):\n",
    "        n=n+c\n",
    "print(n)"
   ]
  },
  {
   "cell_type": "code",
   "execution_count": 12,
   "id": "d45d2ee3",
   "metadata": {},
   "outputs": [
    {
     "ename": "IndentationError",
     "evalue": "unexpected indent (Temp/ipykernel_5304/3080991276.py, line 2)",
     "output_type": "error",
     "traceback": [
      "\u001b[1;36m  File \u001b[1;32m\"C:\\Users\\HP\\AppData\\Local\\Temp/ipykernel_5304/3080991276.py\"\u001b[1;36m, line \u001b[1;32m2\u001b[0m\n\u001b[1;33m    n2=n1[::-1]\u001b[0m\n\u001b[1;37m    ^\u001b[0m\n\u001b[1;31mIndentationError\u001b[0m\u001b[1;31m:\u001b[0m unexpected indent\n"
     ]
    }
   ],
   "source": []
  },
  {
   "cell_type": "code",
   "execution_count": 1,
   "id": "ffa9bb38",
   "metadata": {},
   "outputs": [
    {
     "name": "stdout",
     "output_type": "stream",
     "text": [
      "enter the number:22\n",
      "palindrome is: 44\n"
     ]
    }
   ],
   "source": [
    "n1=input(\"enter the number:\")\n",
    "n2=n1[::-1]\n",
    "n3=str(int(n1)+int(n2))\n",
    "while n3!=n3[::-1]:\n",
    "    n3=str(int(n1)+int(n2))\n",
    "    print (\"number is:\",n3)\n",
    "    print(\"reverse is:\",n3[::-1])\n",
    "print(\"palindrome is:\",n3)"
   ]
  },
  {
   "cell_type": "code",
   "execution_count": 2,
   "id": "87c9df0e",
   "metadata": {},
   "outputs": [],
   "source": [
    "x=8\n",
    "y=10"
   ]
  },
  {
   "cell_type": "code",
   "execution_count": 8,
   "id": "b0b6fa66",
   "metadata": {},
   "outputs": [
    {
     "data": {
      "text/plain": [
       "5.0"
      ]
     },
     "execution_count": 8,
     "metadata": {},
     "output_type": "execute_result"
    }
   ],
   "source": [
    "8//3*3/2+10%2**2"
   ]
  },
  {
   "cell_type": "code",
   "execution_count": null,
   "id": "8e79fbe3",
   "metadata": {},
   "outputs": [],
   "source": [
    "start=input('How old were you at the time of joining?')"
   ]
  },
  {
   "cell_type": "code",
   "execution_count": null,
   "id": "98c5602a",
   "metadata": {},
   "outputs": [],
   "source": []
  },
  {
   "cell_type": "code",
   "execution_count": null,
   "id": "462ad84f",
   "metadata": {},
   "outputs": [],
   "source": [
    "end=input('How old are you today?')"
   ]
  },
  {
   "cell_type": "code",
   "execution_count": null,
   "id": "80779182",
   "metadata": {},
   "outputs": [],
   "source": [
    "n1=[10,20,30,40,50]\n",
    "n2=[10,20,30,40,50]"
   ]
  },
  {
   "cell_type": "code",
   "execution_count": 2,
   "id": "5e72fd2c",
   "metadata": {},
   "outputs": [
    {
     "ename": "NameError",
     "evalue": "name 'n1' is not defined",
     "output_type": "error",
     "traceback": [
      "\u001b[1;31m---------------------------------------------------------------------------\u001b[0m",
      "\u001b[1;31mNameError\u001b[0m                                 Traceback (most recent call last)",
      "\u001b[1;32m~\\AppData\\Local\\Temp/ipykernel_248/2162887407.py\u001b[0m in \u001b[0;36m<module>\u001b[1;34m\u001b[0m\n\u001b[1;32m----> 1\u001b[1;33m \u001b[0mprint\u001b[0m\u001b[1;33m(\u001b[0m\u001b[0mn1\u001b[0m \u001b[1;32mis\u001b[0m \u001b[0mn2\u001b[0m\u001b[1;33m)\u001b[0m\u001b[1;33m\u001b[0m\u001b[1;33m\u001b[0m\u001b[0m\n\u001b[0m",
      "\u001b[1;31mNameError\u001b[0m: name 'n1' is not defined"
     ]
    }
   ],
   "source": [
    "print(n1 is n2)"
   ]
  },
  {
   "cell_type": "code",
   "execution_count": 7,
   "id": "efb6835b",
   "metadata": {},
   "outputs": [
    {
     "name": "stdout",
     "output_type": "stream",
     "text": [
      "['A', 'B', ' ', 'C', 'D', 'EF']\n"
     ]
    }
   ],
   "source": [
    "s= 'AB CD'\n",
    "list=list(s)\n",
    "list.append('EF')\n",
    "print(list)"
   ]
  },
  {
   "cell_type": "code",
   "execution_count": 8,
   "id": "30493ef1",
   "metadata": {},
   "outputs": [],
   "source": [
    "a=bool([False])"
   ]
  },
  {
   "cell_type": "code",
   "execution_count": 9,
   "id": "7a78b533",
   "metadata": {},
   "outputs": [
    {
     "data": {
      "text/plain": [
       "True"
      ]
     },
     "execution_count": 9,
     "metadata": {},
     "output_type": "execute_result"
    }
   ],
   "source": [
    "a"
   ]
  },
  {
   "cell_type": "code",
   "execution_count": 10,
   "id": "3f452b7c",
   "metadata": {},
   "outputs": [],
   "source": [
    "s='Python is easy'"
   ]
  },
  {
   "cell_type": "code",
   "execution_count": 12,
   "id": "cc05777d",
   "metadata": {},
   "outputs": [
    {
     "data": {
      "text/plain": [
       "'Python is easy'"
      ]
     },
     "execution_count": 12,
     "metadata": {},
     "output_type": "execute_result"
    }
   ],
   "source": [
    "s"
   ]
  },
  {
   "cell_type": "code",
   "execution_count": 13,
   "id": "bf109fa0",
   "metadata": {},
   "outputs": [],
   "source": [
    "s1=s[-7:]"
   ]
  },
  {
   "cell_type": "code",
   "execution_count": 14,
   "id": "38eda8d1",
   "metadata": {},
   "outputs": [],
   "source": [
    "s2=s[-4:]"
   ]
  },
  {
   "cell_type": "code",
   "execution_count": 15,
   "id": "eae60964",
   "metadata": {},
   "outputs": [
    {
     "name": "stdout",
     "output_type": "stream",
     "text": [
      "is easyeasy\n"
     ]
    }
   ],
   "source": [
    "print(s1+s2)"
   ]
  },
  {
   "cell_type": "code",
   "execution_count": null,
   "id": "e65e0188",
   "metadata": {},
   "outputs": [],
   "source": []
  }
 ],
 "metadata": {
  "kernelspec": {
   "display_name": "Python 3 (ipykernel)",
   "language": "python",
   "name": "python3"
  },
  "language_info": {
   "codemirror_mode": {
    "name": "ipython",
    "version": 3
   },
   "file_extension": ".py",
   "mimetype": "text/x-python",
   "name": "python",
   "nbconvert_exporter": "python",
   "pygments_lexer": "ipython3",
   "version": "3.9.7"
  }
 },
 "nbformat": 4,
 "nbformat_minor": 5
}
