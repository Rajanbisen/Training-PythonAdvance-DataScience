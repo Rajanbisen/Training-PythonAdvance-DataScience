{
 "cells": [
  {
   "cell_type": "code",
   "execution_count": 1,
   "metadata": {},
   "outputs": [],
   "source": [
    "import pymongo"
   ]
  },
  {
   "cell_type": "code",
   "execution_count": 2,
   "metadata": {},
   "outputs": [
    {
     "name": "stdout",
     "output_type": "stream",
     "text": [
      "Requirement already satisfied: pymongo in c:\\users\\user\\anaconda3\\lib\\site-packages (3.9.0)\n"
     ]
    }
   ],
   "source": [
    "!pip install pymongo"
   ]
  },
  {
   "cell_type": "code",
   "execution_count": 3,
   "metadata": {},
   "outputs": [],
   "source": [
    "dbConn = pymongo.MongoClient(\"mongodb://localhost:27017/\")"
   ]
  },
  {
   "cell_type": "code",
   "execution_count": 5,
   "metadata": {},
   "outputs": [
    {
     "data": {
      "text/plain": [
       "['admin', 'config', 'local', 'newDB', 'wednesdayDB', 'yogeshDB']"
      ]
     },
     "execution_count": 5,
     "metadata": {},
     "output_type": "execute_result"
    }
   ],
   "source": [
    "dbConn.list_database_names()"
   ]
  },
  {
   "cell_type": "code",
   "execution_count": 12,
   "metadata": {},
   "outputs": [],
   "source": [
    "dbname='newDB'\n",
    "db = dbConn[dbname]"
   ]
  },
  {
   "cell_type": "code",
   "execution_count": 13,
   "metadata": {},
   "outputs": [
    {
     "data": {
      "text/plain": [
       "['admin', 'config', 'local', 'newDB', 'wednesdayDB', 'yogeshDB']"
      ]
     },
     "execution_count": 13,
     "metadata": {},
     "output_type": "execute_result"
    }
   ],
   "source": [
    "dbConn.list_database_names()"
   ]
  },
  {
   "cell_type": "code",
   "execution_count": 14,
   "metadata": {},
   "outputs": [
    {
     "name": "stdout",
     "output_type": "stream",
     "text": [
      "This Databse exists\n"
     ]
    }
   ],
   "source": [
    "dblist=dbConn.list_database_names() # obtaining all the database names\n",
    "db_name='newDB'\n",
    "\n",
    "if dblist.index(db_name)==-1:\n",
    "    print (\"This Databse doesn't exist\")\n",
    "else:\n",
    "    print (\"This Databse exists\")"
   ]
  },
  {
   "cell_type": "code",
   "execution_count": 15,
   "metadata": {},
   "outputs": [],
   "source": [
    "collection_name='hello1'\n",
    "collection=db[collection_name] "
   ]
  },
  {
   "cell_type": "code",
   "execution_count": 16,
   "metadata": {},
   "outputs": [
    {
     "data": {
      "text/plain": [
       "['hello1']"
      ]
     },
     "execution_count": 16,
     "metadata": {},
     "output_type": "execute_result"
    }
   ],
   "source": [
    "db.list_collection_names()"
   ]
  },
  {
   "cell_type": "code",
   "execution_count": 17,
   "metadata": {},
   "outputs": [
    {
     "name": "stdout",
     "output_type": "stream",
     "text": [
      "The collection exists.\n"
     ]
    }
   ],
   "source": [
    "if collection_name in db.list_collection_names():\n",
    "    print(\"The collection exists.\")\n",
    "else:\n",
    "    print(\"The collection doesn't exist.\")  "
   ]
  },
  {
   "cell_type": "code",
   "execution_count": 18,
   "metadata": {},
   "outputs": [],
   "source": [
    "my_row = {'Serial No': '9998',\n",
    " 'GRE Score': '337',\n",
    " 'TOEFL Score': '118',\n",
    " 'University Rating': '4',\n",
    " 'SOP': '4.5',\n",
    " 'LOR': '4.5',\n",
    " 'CGPA': '9.65',\n",
    " 'Research': '1',\n",
    " 'Chance of Admit': '0.92'}"
   ]
  },
  {
   "cell_type": "code",
   "execution_count": 19,
   "metadata": {},
   "outputs": [
    {
     "data": {
      "text/plain": [
       "{'Serial No': '9998',\n",
       " 'GRE Score': '337',\n",
       " 'TOEFL Score': '118',\n",
       " 'University Rating': '4',\n",
       " 'SOP': '4.5',\n",
       " 'LOR': '4.5',\n",
       " 'CGPA': '9.65',\n",
       " 'Research': '1',\n",
       " 'Chance of Admit': '0.92'}"
      ]
     },
     "execution_count": 19,
     "metadata": {},
     "output_type": "execute_result"
    }
   ],
   "source": [
    "my_row"
   ]
  },
  {
   "cell_type": "code",
   "execution_count": 20,
   "metadata": {},
   "outputs": [
    {
     "data": {
      "text/plain": [
       "dict"
      ]
     },
     "execution_count": 20,
     "metadata": {},
     "output_type": "execute_result"
    }
   ],
   "source": [
    "type(my_row)"
   ]
  },
  {
   "cell_type": "code",
   "execution_count": 22,
   "metadata": {},
   "outputs": [],
   "source": [
    "x = collection.insert_one(my_row)"
   ]
  },
  {
   "cell_type": "code",
   "execution_count": 23,
   "metadata": {},
   "outputs": [
    {
     "data": {
      "text/plain": [
       "<pymongo.results.InsertOneResult at 0x1c19a33aa48>"
      ]
     },
     "execution_count": 23,
     "metadata": {},
     "output_type": "execute_result"
    }
   ],
   "source": [
    "x"
   ]
  },
  {
   "cell_type": "code",
   "execution_count": 24,
   "metadata": {},
   "outputs": [
    {
     "name": "stdout",
     "output_type": "stream",
     "text": [
      "60dc8a35e564d67b6534f764\n"
     ]
    }
   ],
   "source": [
    "print(x.inserted_id)"
   ]
  },
  {
   "cell_type": "code",
   "execution_count": 25,
   "metadata": {},
   "outputs": [],
   "source": [
    "my_rows = [\n",
    "{'Serial No': '9997',\n",
    " 'GRE Score': '337',\n",
    " 'TOEFL Score': '118',\n",
    " 'University Rating': '4',\n",
    " 'SOP': '4.5',\n",
    " 'LOR': '4.5',\n",
    " 'CGPA': '9.65',\n",
    " 'Research': '1',\n",
    " 'Chance of Admit': '0.92'},\n",
    "  {\n",
    "    'Serial No': '9996',\n",
    " 'GRE Score': '336',\n",
    " 'TOEFL Score': '118',\n",
    " 'University Rating': '4',\n",
    " 'SOP': '4.5',\n",
    " 'LOR': '4.5',\n",
    " 'CGPA': '9.6',\n",
    " 'Research': '0',\n",
    " 'Chance of Admit': '0.92'},\n",
    "  {\n",
    "    'Serial No': '9995',\n",
    " 'GRE Score': '337',\n",
    " 'TOEFL Score': '118',\n",
    " 'University Rating': '4',\n",
    " 'SOP': '4.5',\n",
    " 'LOR': '4.5',\n",
    " 'CGPA': '9.5',\n",
    " 'Research': '1',\n",
    " 'Chance of Admit': '0.92'},\n",
    "  {\n",
    "    'Serial No': '9994',\n",
    " 'GRE Score': '334',\n",
    " 'TOEFL Score': '119',\n",
    " 'University Rating': '4',\n",
    " 'SOP': '4.5',\n",
    " 'LOR': '4.5',\n",
    " 'CGPA': '9.4',\n",
    " 'Research': '1',\n",
    " 'Chance of Admit': '0.92'},\n",
    "  {\n",
    "    'Serial No': '9993',\n",
    " 'GRE Score': '337',\n",
    " 'TOEFL Score': '118',\n",
    " 'University Rating': '4',\n",
    " 'SOP': '4.5',\n",
    " 'LOR': '4.5',\n",
    " 'CGPA': '9.65',\n",
    " 'Research': '1',\n",
    " 'Chance of Admit': '0.92'}\n",
    "\n",
    "]"
   ]
  },
  {
   "cell_type": "code",
   "execution_count": 26,
   "metadata": {},
   "outputs": [
    {
     "data": {
      "text/plain": [
       "[{'Serial No': '9997',\n",
       "  'GRE Score': '337',\n",
       "  'TOEFL Score': '118',\n",
       "  'University Rating': '4',\n",
       "  'SOP': '4.5',\n",
       "  'LOR': '4.5',\n",
       "  'CGPA': '9.65',\n",
       "  'Research': '1',\n",
       "  'Chance of Admit': '0.92'},\n",
       " {'Serial No': '9996',\n",
       "  'GRE Score': '336',\n",
       "  'TOEFL Score': '118',\n",
       "  'University Rating': '4',\n",
       "  'SOP': '4.5',\n",
       "  'LOR': '4.5',\n",
       "  'CGPA': '9.6',\n",
       "  'Research': '0',\n",
       "  'Chance of Admit': '0.92'},\n",
       " {'Serial No': '9995',\n",
       "  'GRE Score': '337',\n",
       "  'TOEFL Score': '118',\n",
       "  'University Rating': '4',\n",
       "  'SOP': '4.5',\n",
       "  'LOR': '4.5',\n",
       "  'CGPA': '9.5',\n",
       "  'Research': '1',\n",
       "  'Chance of Admit': '0.92'},\n",
       " {'Serial No': '9994',\n",
       "  'GRE Score': '334',\n",
       "  'TOEFL Score': '119',\n",
       "  'University Rating': '4',\n",
       "  'SOP': '4.5',\n",
       "  'LOR': '4.5',\n",
       "  'CGPA': '9.4',\n",
       "  'Research': '1',\n",
       "  'Chance of Admit': '0.92'},\n",
       " {'Serial No': '9993',\n",
       "  'GRE Score': '337',\n",
       "  'TOEFL Score': '118',\n",
       "  'University Rating': '4',\n",
       "  'SOP': '4.5',\n",
       "  'LOR': '4.5',\n",
       "  'CGPA': '9.65',\n",
       "  'Research': '1',\n",
       "  'Chance of Admit': '0.92'}]"
      ]
     },
     "execution_count": 26,
     "metadata": {},
     "output_type": "execute_result"
    }
   ],
   "source": [
    "my_rows"
   ]
  },
  {
   "cell_type": "code",
   "execution_count": 27,
   "metadata": {},
   "outputs": [],
   "source": [
    "x = collection.insert_many(my_rows)"
   ]
  },
  {
   "cell_type": "code",
   "execution_count": 28,
   "metadata": {},
   "outputs": [
    {
     "name": "stdout",
     "output_type": "stream",
     "text": [
      "[ObjectId('60dc8b33e564d67b6534f765'), ObjectId('60dc8b33e564d67b6534f766'), ObjectId('60dc8b33e564d67b6534f767'), ObjectId('60dc8b33e564d67b6534f768'), ObjectId('60dc8b33e564d67b6534f769')]\n"
     ]
    }
   ],
   "source": [
    "print(x.inserted_ids) "
   ]
  },
  {
   "cell_type": "code",
   "execution_count": 29,
   "metadata": {},
   "outputs": [],
   "source": [
    "result= collection.find({}) "
   ]
  },
  {
   "cell_type": "code",
   "execution_count": 30,
   "metadata": {},
   "outputs": [
    {
     "data": {
      "text/plain": [
       "<pymongo.cursor.Cursor at 0x1c19a5f19b0>"
      ]
     },
     "execution_count": 30,
     "metadata": {},
     "output_type": "execute_result"
    }
   ],
   "source": [
    "result"
   ]
  },
  {
   "cell_type": "code",
   "execution_count": 31,
   "metadata": {},
   "outputs": [
    {
     "name": "stdout",
     "output_type": "stream",
     "text": [
      "<pymongo.cursor.Cursor object at 0x000001C19A5F19B0>\n"
     ]
    }
   ],
   "source": [
    "print(result)"
   ]
  },
  {
   "cell_type": "code",
   "execution_count": 32,
   "metadata": {},
   "outputs": [
    {
     "data": {
      "text/plain": [
       "{'_id': ObjectId('60dc8b33e564d67b6534f765'),\n",
       " 'Serial No': '9997',\n",
       " 'GRE Score': '337',\n",
       " 'TOEFL Score': '118',\n",
       " 'University Rating': '4',\n",
       " 'SOP': '4.5',\n",
       " 'LOR': '4.5',\n",
       " 'CGPA': '9.65',\n",
       " 'Research': '1',\n",
       " 'Chance of Admit': '0.92'}"
      ]
     },
     "execution_count": 32,
     "metadata": {},
     "output_type": "execute_result"
    }
   ],
   "source": [
    "result[3]"
   ]
  },
  {
   "cell_type": "code",
   "execution_count": 33,
   "metadata": {},
   "outputs": [
    {
     "data": {
      "text/plain": [
       "pymongo.cursor.Cursor"
      ]
     },
     "execution_count": 33,
     "metadata": {},
     "output_type": "execute_result"
    }
   ],
   "source": [
    "type(result)"
   ]
  },
  {
   "cell_type": "code",
   "execution_count": 34,
   "metadata": {},
   "outputs": [],
   "source": [
    "result_total= collection.find({}).limit(5)"
   ]
  },
  {
   "cell_type": "code",
   "execution_count": 35,
   "metadata": {},
   "outputs": [
    {
     "data": {
      "text/plain": [
       "<pymongo.cursor.Cursor at 0x1c19a60a080>"
      ]
     },
     "execution_count": 35,
     "metadata": {},
     "output_type": "execute_result"
    }
   ],
   "source": [
    "result_total"
   ]
  },
  {
   "cell_type": "code",
   "execution_count": 36,
   "metadata": {},
   "outputs": [
    {
     "name": "stdout",
     "output_type": "stream",
     "text": [
      "{'_id': ObjectId('60dc84bf391a5205c609a1f9'), 'team': 'india', 'runs': [100.0, 200.0]}\n",
      "{'_id': ObjectId('60dc85817a647a0f5b245345'), 'name': 'yogesh', 'roll_no': 22}\n",
      "{'_id': ObjectId('60dc8a35e564d67b6534f764'), 'Serial No': '9998', 'GRE Score': '337', 'TOEFL Score': '118', 'University Rating': '4', 'SOP': '4.5', 'LOR': '4.5', 'CGPA': '9.65', 'Research': '1', 'Chance of Admit': '0.92'}\n",
      "{'_id': ObjectId('60dc8b33e564d67b6534f765'), 'Serial No': '9997', 'GRE Score': '337', 'TOEFL Score': '118', 'University Rating': '4', 'SOP': '4.5', 'LOR': '4.5', 'CGPA': '9.65', 'Research': '1', 'Chance of Admit': '0.92'}\n",
      "{'_id': ObjectId('60dc8b33e564d67b6534f766'), 'Serial No': '9996', 'GRE Score': '336', 'TOEFL Score': '118', 'University Rating': '4', 'SOP': '4.5', 'LOR': '4.5', 'CGPA': '9.6', 'Research': '0', 'Chance of Admit': '0.92'}\n"
     ]
    }
   ],
   "source": [
    "for res in result_total:\n",
    "    print(res)"
   ]
  },
  {
   "cell_type": "code",
   "execution_count": 37,
   "metadata": {},
   "outputs": [
    {
     "name": "stdout",
     "output_type": "stream",
     "text": [
      "{'_id': ObjectId('60dc84bf391a5205c609a1f9')}\n",
      "{'_id': ObjectId('60dc85817a647a0f5b245345')}\n",
      "{'_id': ObjectId('60dc8a35e564d67b6534f764'), 'GRE Score': '337', 'TOEFL Score': '118'}\n",
      "{'_id': ObjectId('60dc8b33e564d67b6534f765'), 'GRE Score': '337', 'TOEFL Score': '118'}\n",
      "{'_id': ObjectId('60dc8b33e564d67b6534f766'), 'GRE Score': '336', 'TOEFL Score': '118'}\n",
      "{'_id': ObjectId('60dc8b33e564d67b6534f767'), 'GRE Score': '337', 'TOEFL Score': '118'}\n",
      "{'_id': ObjectId('60dc8b33e564d67b6534f768'), 'GRE Score': '334', 'TOEFL Score': '119'}\n",
      "{'_id': ObjectId('60dc8b33e564d67b6534f769'), 'GRE Score': '337', 'TOEFL Score': '118'}\n"
     ]
    }
   ],
   "source": [
    "result_some= collection.find({}, {'GRE Score','TOEFL Score'}) # retrieveing two columns\n",
    "# The second parameter in find() specifies which columns to choose\n",
    "for res in result_some:\n",
    "    print(res)"
   ]
  },
  {
   "cell_type": "code",
   "execution_count": 38,
   "metadata": {},
   "outputs": [
    {
     "name": "stdout",
     "output_type": "stream",
     "text": [
      "{'_id': ObjectId('60dc8a35e564d67b6534f764'), 'Serial No': '9998', 'GRE Score': '337', 'TOEFL Score': '118', 'University Rating': '4', 'SOP': '4.5', 'LOR': '4.5', 'CGPA': '9.65', 'Research': '1', 'Chance of Admit': '0.92'}\n",
      "{'_id': ObjectId('60dc8b33e564d67b6534f765'), 'Serial No': '9997', 'GRE Score': '337', 'TOEFL Score': '118', 'University Rating': '4', 'SOP': '4.5', 'LOR': '4.5', 'CGPA': '9.65', 'Research': '1', 'Chance of Admit': '0.92'}\n",
      "{'_id': ObjectId('60dc8b33e564d67b6534f767'), 'Serial No': '9995', 'GRE Score': '337', 'TOEFL Score': '118', 'University Rating': '4', 'SOP': '4.5', 'LOR': '4.5', 'CGPA': '9.5', 'Research': '1', 'Chance of Admit': '0.92'}\n",
      "{'_id': ObjectId('60dc8b33e564d67b6534f769'), 'Serial No': '9993', 'GRE Score': '337', 'TOEFL Score': '118', 'University Rating': '4', 'SOP': '4.5', 'LOR': '4.5', 'CGPA': '9.65', 'Research': '1', 'Chance of Admit': '0.92'}\n"
     ]
    }
   ],
   "source": [
    "# finding the rows satisfying a given criteria\n",
    "my_db_query={'GRE Score':'337'}\n",
    "# printing all the rows where GRE Score is 337\n",
    "result_GRE= collection.find(my_db_query)\n",
    "for res in result_GRE:\n",
    "    print(res)"
   ]
  },
  {
   "cell_type": "code",
   "execution_count": 40,
   "metadata": {},
   "outputs": [
    {
     "name": "stdout",
     "output_type": "stream",
     "text": [
      "{'_id': ObjectId('60dc8a35e564d67b6534f764'), 'Serial No': '9998', 'GRE Score': '337', 'TOEFL Score': '118', 'University Rating': '4', 'SOP': '4.5', 'LOR': '4.5', 'CGPA': '9.65', 'Research': '1', 'Chance of Admit': '0.92'}\n",
      "{'_id': ObjectId('60dc8b33e564d67b6534f765'), 'Serial No': '9997', 'GRE Score': '337', 'TOEFL Score': '118', 'University Rating': '4', 'SOP': '4.5', 'LOR': '4.5', 'CGPA': '9.65', 'Research': '1', 'Chance of Admit': '0.92'}\n",
      "{'_id': ObjectId('60dc8b33e564d67b6534f766'), 'Serial No': '9996', 'GRE Score': '336', 'TOEFL Score': '118', 'University Rating': '4', 'SOP': '4.5', 'LOR': '4.5', 'CGPA': '9.6', 'Research': '0', 'Chance of Admit': '0.92'}\n",
      "{'_id': ObjectId('60dc8b33e564d67b6534f767'), 'Serial No': '9995', 'GRE Score': '337', 'TOEFL Score': '118', 'University Rating': '4', 'SOP': '4.5', 'LOR': '4.5', 'CGPA': '9.5', 'Research': '1', 'Chance of Admit': '0.92'}\n",
      "{'_id': ObjectId('60dc8b33e564d67b6534f768'), 'Serial No': '9994', 'GRE Score': '334', 'TOEFL Score': '119', 'University Rating': '4', 'SOP': '4.5', 'LOR': '4.5', 'CGPA': '9.4', 'Research': '1', 'Chance of Admit': '0.92'}\n",
      "{'_id': ObjectId('60dc8b33e564d67b6534f769'), 'Serial No': '9993', 'GRE Score': '337', 'TOEFL Score': '118', 'University Rating': '4', 'SOP': '4.5', 'LOR': '4.5', 'CGPA': '9.65', 'Research': '1', 'Chance of Admit': '0.92'}\n"
     ]
    }
   ],
   "source": [
    "my_db_query={'GRE Score':{'$gt':'330'}}\n",
    "# printing all the rows where GRE Score is greaterthan 330\n",
    "result_GRE= collection.find(my_db_query)\n",
    "for res in result_GRE:\n",
    "    print(res)"
   ]
  },
  {
   "cell_type": "code",
   "execution_count": null,
   "metadata": {},
   "outputs": [],
   "source": []
  }
 ],
 "metadata": {
  "kernelspec": {
   "display_name": "Python 3",
   "language": "python",
   "name": "python3"
  },
  "language_info": {
   "codemirror_mode": {
    "name": "ipython",
    "version": 3
   },
   "file_extension": ".py",
   "mimetype": "text/x-python",
   "name": "python",
   "nbconvert_exporter": "python",
   "pygments_lexer": "ipython3",
   "version": "3.7.3"
  }
 },
 "nbformat": 4,
 "nbformat_minor": 2
}
