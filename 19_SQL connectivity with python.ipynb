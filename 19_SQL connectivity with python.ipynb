{
 "cells": [
  {
   "cell_type": "code",
   "execution_count": 1,
   "id": "1df26824",
   "metadata": {},
   "outputs": [
    {
     "data": {
      "text/plain": [
       "'C:\\\\Users\\\\HP\\\\Python.Tableu Traning\\\\ML SQL Tableau Notes'"
      ]
     },
     "execution_count": 1,
     "metadata": {},
     "output_type": "execute_result"
    }
   ],
   "source": [
    "pwd"
   ]
  },
  {
   "cell_type": "code",
   "execution_count": 2,
   "id": "43d7bdff",
   "metadata": {},
   "outputs": [
    {
     "name": "stdout",
     "output_type": "stream",
     "text": [
      "Requirement already satisfied: mysql-connector-python in c:\\users\\hp\\anaconda3\\lib\\site-packages (8.0.28)\n",
      "Collecting protobuf>=3.0.0\n",
      "  Downloading protobuf-3.20.1-cp39-cp39-win_amd64.whl (904 kB)\n",
      "Installing collected packages: protobuf\n",
      "Successfully installed protobuf-3.20.1\n"
     ]
    }
   ],
   "source": [
    "!pip install mysql-connector-python"
   ]
  },
  {
   "cell_type": "code",
   "execution_count": 3,
   "id": "ac1411e1",
   "metadata": {},
   "outputs": [],
   "source": [
    "import mysql.connector as connection"
   ]
  },
  {
   "cell_type": "code",
   "execution_count": 6,
   "id": "4b61ab4f",
   "metadata": {},
   "outputs": [],
   "source": [
    "mydb=connection.connect(host=\"localhost\",user=\"root\",passwd=\"Rajan@123\",use_pure=True)"
   ]
  },
  {
   "cell_type": "code",
   "execution_count": 7,
   "id": "bcc10af8",
   "metadata": {},
   "outputs": [
    {
     "data": {
      "text/plain": [
       "<mysql.connector.connection.MySQLConnection at 0x2261df6cf10>"
      ]
     },
     "execution_count": 7,
     "metadata": {},
     "output_type": "execute_result"
    }
   ],
   "source": [
    "mydb"
   ]
  },
  {
   "cell_type": "code",
   "execution_count": 8,
   "id": "8e774294",
   "metadata": {},
   "outputs": [],
   "source": [
    "cursor=mydb.cursor()"
   ]
  },
  {
   "cell_type": "code",
   "execution_count": 9,
   "id": "8f7e2e89",
   "metadata": {},
   "outputs": [
    {
     "data": {
      "text/plain": [
       "<mysql.connector.cursor.MySQLCursor at 0x2261df6c3d0>"
      ]
     },
     "execution_count": 9,
     "metadata": {},
     "output_type": "execute_result"
    }
   ],
   "source": [
    "cursor"
   ]
  },
  {
   "cell_type": "code",
   "execution_count": 10,
   "id": "2d4052b9",
   "metadata": {},
   "outputs": [],
   "source": [
    "cursor.execute(\"show databases\")"
   ]
  },
  {
   "cell_type": "code",
   "execution_count": 11,
   "id": "77beee15",
   "metadata": {},
   "outputs": [
    {
     "name": "stdout",
     "output_type": "stream",
     "text": [
      "[('batch_ml',), ('batch_rb',), ('information_schema',), ('mysql',), ('performance_schema',), ('sakila',), ('sys',), ('world',)]\n"
     ]
    }
   ],
   "source": [
    "print(cursor.fetchall())"
   ]
  },
  {
   "cell_type": "code",
   "execution_count": 12,
   "id": "a4c947e3",
   "metadata": {},
   "outputs": [
    {
     "data": {
      "text/plain": [
       "True"
      ]
     },
     "execution_count": 12,
     "metadata": {},
     "output_type": "execute_result"
    }
   ],
   "source": [
    "mydb.is_connected()"
   ]
  },
  {
   "cell_type": "code",
   "execution_count": 13,
   "id": "49828daa",
   "metadata": {},
   "outputs": [],
   "source": [
    "cursor.execute(\"create database sample1\")"
   ]
  },
  {
   "cell_type": "code",
   "execution_count": 14,
   "id": "d5126605",
   "metadata": {},
   "outputs": [],
   "source": [
    "mydb=connection.connect(host=\"localhost\",database=\"batch_rb\",user=\"root\",passwd=\"Rajan@123\",use_pure=True)"
   ]
  },
  {
   "cell_type": "code",
   "execution_count": 15,
   "id": "ebbd6668",
   "metadata": {},
   "outputs": [],
   "source": [
    "cursor=mydb.cursor()"
   ]
  },
  {
   "cell_type": "code",
   "execution_count": 16,
   "id": "ea4f3dbb",
   "metadata": {},
   "outputs": [],
   "source": [
    "cursor.execute(\"show tables\")"
   ]
  },
  {
   "cell_type": "code",
   "execution_count": 17,
   "id": "5688abc9",
   "metadata": {},
   "outputs": [
    {
     "name": "stdout",
     "output_type": "stream",
     "text": [
      "[('bonus',), ('dept',), ('emp2',), ('emp_cp',), ('salgrade',)]\n"
     ]
    }
   ],
   "source": [
    "print(cursor.fetchall())"
   ]
  },
  {
   "cell_type": "code",
   "execution_count": 19,
   "id": "fd0a0edf",
   "metadata": {},
   "outputs": [],
   "source": [
    "cursor.execute(\"select * from emp_cp\")"
   ]
  },
  {
   "cell_type": "code",
   "execution_count": 20,
   "id": "c7fc2604",
   "metadata": {},
   "outputs": [
    {
     "name": "stdout",
     "output_type": "stream",
     "text": [
      "[(7369, 'SMITH', 'CLERK', 7902, datetime.date(1980, 12, 17), 1800, None, 20), (7499, 'ALLEN', 'SALESMAN', 7698, datetime.date(1981, 2, 20), 2600, 300, 30), (7521, 'WARD', 'SALESMAN', 7698, datetime.date(1981, 2, 22), 2250, 500, 30), (7566, 'JONES', 'MANAGER', 7839, datetime.date(1981, 4, 2), 3975, None, 20), (7654, 'MARTIN', 'SALESMAN', 7698, datetime.date(1981, 9, 22), 2250, 1400, 30), (7698, 'BLAKE', 'MANAGER', 7839, datetime.date(1981, 5, 1), 3850, None, 30), (7782, 'CLARK', 'MANAGER', 7839, datetime.date(1981, 6, 9), 3450, None, 10), (7788, 'SCOTT', 'ANALYST', 7566, datetime.date(1987, 9, 23), 4000, None, 20), (7839, 'KING', 'PRESIDENT', None, datetime.date(1981, 11, 19), 6000, None, 10), (7844, 'TURNER', 'SALESMAN', 7698, datetime.date(1981, 9, 8), 2500, 0, 30), (7876, 'ADAMS', 'CLERK', 7788, datetime.date(1987, 8, 24), 2100, None, 20), (7900, 'JAMES', 'CLERK', 7698, datetime.date(1981, 12, 3), 1950, None, 30), (7934, 'MILLER', 'CLERK', 7782, datetime.date(1982, 1, 23), 2300, None, 10), (101, 'rahul', 'ANALYST', 100, datetime.date(1988, 11, 12), 4400, 200, 30)]\n"
     ]
    }
   ],
   "source": [
    "print(cursor.fetchall())"
   ]
  },
  {
   "cell_type": "code",
   "execution_count": 21,
   "id": "3185f230",
   "metadata": {},
   "outputs": [],
   "source": [
    "mydb=connection.connect(host=\"localhost\",database=\"batch_rb\",user=\"root\",passwd=\"Rajan@123\",use_pure=True)"
   ]
  },
  {
   "cell_type": "code",
   "execution_count": 22,
   "id": "531dc41a",
   "metadata": {},
   "outputs": [
    {
     "data": {
      "text/plain": [
       "True"
      ]
     },
     "execution_count": 22,
     "metadata": {},
     "output_type": "execute_result"
    }
   ],
   "source": [
    "mydb.is_connected()"
   ]
  },
  {
   "cell_type": "code",
   "execution_count": 23,
   "id": "3a65ac03",
   "metadata": {},
   "outputs": [],
   "source": [
    "cursor=mydb.cursor()"
   ]
  },
  {
   "cell_type": "code",
   "execution_count": 24,
   "id": "e2ad21e9",
   "metadata": {},
   "outputs": [],
   "source": [
    "cursor.execute(\"CREATE TABLE STUDENT(Student_ID int(8),first_name varchar(10),last_name varchar(10),\\\n",
    "               admission_date DATE,class varchar(5),section varchar(5))\")"
   ]
  },
  {
   "cell_type": "code",
   "execution_count": 25,
   "id": "00226ebe",
   "metadata": {},
   "outputs": [],
   "source": [
    "cursor.execute(\"show tables\")"
   ]
  },
  {
   "cell_type": "code",
   "execution_count": 26,
   "id": "5f6528a9",
   "metadata": {},
   "outputs": [
    {
     "name": "stdout",
     "output_type": "stream",
     "text": [
      "[('bonus',), ('dept',), ('emp2',), ('emp_cp',), ('salgrade',), ('student',)]\n"
     ]
    }
   ],
   "source": [
    "print(cursor.fetchall())"
   ]
  },
  {
   "cell_type": "code",
   "execution_count": 27,
   "id": "dd8a00e5",
   "metadata": {},
   "outputs": [],
   "source": [
    "cursor.execute(\"desc student\")"
   ]
  },
  {
   "cell_type": "code",
   "execution_count": 28,
   "id": "dae7ca61",
   "metadata": {},
   "outputs": [
    {
     "name": "stdout",
     "output_type": "stream",
     "text": [
      "[('Student_ID', b'int', 'YES', '', None, ''), ('first_name', b'varchar(10)', 'YES', '', None, ''), ('last_name', b'varchar(10)', 'YES', '', None, ''), ('admission_date', b'date', 'YES', '', None, ''), ('class', b'varchar(5)', 'YES', '', None, ''), ('section', b'varchar(5)', 'YES', '', None, '')]\n"
     ]
    }
   ],
   "source": [
    "print(cursor.fetchall())"
   ]
  },
  {
   "cell_type": "code",
   "execution_count": null,
   "id": "c44b62d1",
   "metadata": {},
   "outputs": [],
   "source": []
  },
  {
   "cell_type": "code",
   "execution_count": 29,
   "id": "eccbf51b",
   "metadata": {},
   "outputs": [],
   "source": [
    "cursor.execute(\"insert into student values(101,'rahul','dravid','2022-05-09','Tenth','B')\")"
   ]
  },
  {
   "cell_type": "code",
   "execution_count": 30,
   "id": "865715e4",
   "metadata": {},
   "outputs": [],
   "source": [
    "mydb.commit()"
   ]
  },
  {
   "cell_type": "code",
   "execution_count": 31,
   "id": "1e2b950a",
   "metadata": {},
   "outputs": [],
   "source": [
    "cursor.execute(\"insert into student values(102,'rohit','dravid','2022-05-09','11th','C')\")\n",
    "cursor.execute(\"insert into student values(103,'ram','dravid','2022-05-09','12th','A')\")\n",
    "cursor.execute(\"insert into student values(104,'Laxman','dravid','2022-05-09','8h','D')\")\n",
    "cursor.execute(\"insert into student values(105,'rahim','dravid','2022-05-09','7h','F')\")\n",
    "cursor.execute(\"insert into student values(106,'sachin','dravid','2022-05-09','Tenth','B')\")"
   ]
  },
  {
   "cell_type": "code",
   "execution_count": 32,
   "id": "cbf9c408",
   "metadata": {},
   "outputs": [],
   "source": [
    "cursor.execute(\"select * from student\")"
   ]
  },
  {
   "cell_type": "code",
   "execution_count": 33,
   "id": "0d742cc2",
   "metadata": {},
   "outputs": [
    {
     "name": "stdout",
     "output_type": "stream",
     "text": [
      "[(101, 'rahul', 'dravid', datetime.date(2022, 5, 9), 'Tenth', 'B'), (102, 'rohit', 'dravid', datetime.date(2022, 5, 9), '11th', 'C'), (103, 'ram', 'dravid', datetime.date(2022, 5, 9), '12th', 'A'), (104, 'Laxman', 'dravid', datetime.date(2022, 5, 9), '8h', 'D'), (105, 'rahim', 'dravid', datetime.date(2022, 5, 9), '7h', 'F'), (106, 'sachin', 'dravid', datetime.date(2022, 5, 9), 'Tenth', 'B')]\n"
     ]
    }
   ],
   "source": [
    "print(cursor.fetchall())"
   ]
  },
  {
   "cell_type": "code",
   "execution_count": null,
   "id": "d1a9fa2d",
   "metadata": {},
   "outputs": [],
   "source": []
  }
 ],
 "metadata": {
  "kernelspec": {
   "display_name": "Python 3 (ipykernel)",
   "language": "python",
   "name": "python3"
  },
  "language_info": {
   "codemirror_mode": {
    "name": "ipython",
    "version": 3
   },
   "file_extension": ".py",
   "mimetype": "text/x-python",
   "name": "python",
   "nbconvert_exporter": "python",
   "pygments_lexer": "ipython3",
   "version": "3.9.7"
  }
 },
 "nbformat": 4,
 "nbformat_minor": 5
}
