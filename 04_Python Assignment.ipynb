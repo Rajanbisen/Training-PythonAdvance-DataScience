{
 "cells": [
  {
   "cell_type": "code",
   "execution_count": 1,
   "id": "47f79ffe",
   "metadata": {},
   "outputs": [],
   "source": [
    "x=8"
   ]
  },
  {
   "cell_type": "code",
   "execution_count": 2,
   "id": "cde4b568",
   "metadata": {},
   "outputs": [],
   "source": [
    "y=10"
   ]
  },
  {
   "cell_type": "code",
   "execution_count": 3,
   "id": "57b23e10",
   "metadata": {},
   "outputs": [],
   "source": [
    "result=x//3*3/2+y%2**2"
   ]
  },
  {
   "cell_type": "code",
   "execution_count": 4,
   "id": "bb01a675",
   "metadata": {},
   "outputs": [],
   "source": [
    "result=8//3*3/2+10%2**2"
   ]
  },
  {
   "cell_type": "code",
   "execution_count": 5,
   "id": "7e39f88f",
   "metadata": {},
   "outputs": [
    {
     "name": "stdout",
     "output_type": "stream",
     "text": [
      "5.0\n"
     ]
    }
   ],
   "source": [
    "print(result)"
   ]
  },
  {
   "cell_type": "code",
   "execution_count": 1,
   "id": "36e86970",
   "metadata": {},
   "outputs": [
    {
     "name": "stdout",
     "output_type": "stream",
     "text": [
      "How old were you at the time joining?25\n"
     ]
    }
   ],
   "source": [
    "start=input(\"How old were you at the time joining?\")"
   ]
  },
  {
   "cell_type": "code",
   "execution_count": 2,
   "id": "cb0b8c4e",
   "metadata": {},
   "outputs": [
    {
     "name": "stdout",
     "output_type": "stream",
     "text": [
      "How old are you today?54\n"
     ]
    }
   ],
   "source": [
    "end=input(\"How old are you today?\")"
   ]
  },
  {
   "cell_type": "code",
   "execution_count": 14,
   "id": "2a35b5eb",
   "metadata": {},
   "outputs": [
    {
     "name": "stdout",
     "output_type": "stream",
     "text": [
      "Congratulation on29Year of Service!\n"
     ]
    }
   ],
   "source": [
    "print('Congratulation on'+str(int(end)-int(start))+'Year of Service!')"
   ]
  },
  {
   "cell_type": "code",
   "execution_count": 15,
   "id": "e342e0f3",
   "metadata": {},
   "outputs": [],
   "source": [
    "x=\"ACROTE\""
   ]
  },
  {
   "cell_type": "code",
   "execution_count": 16,
   "id": "96073a0e",
   "metadata": {},
   "outputs": [],
   "source": [
    "y=\"APPLE\""
   ]
  },
  {
   "cell_type": "code",
   "execution_count": 17,
   "id": "a3f7bd85",
   "metadata": {},
   "outputs": [],
   "source": [
    "z=\"TOMATO\""
   ]
  },
  {
   "cell_type": "code",
   "execution_count": 21,
   "id": "911ae010",
   "metadata": {},
   "outputs": [
    {
     "name": "stdout",
     "output_type": "stream",
     "text": [
      "C\n"
     ]
    }
   ],
   "source": [
    "print(x[1])"
   ]
  },
  {
   "cell_type": "code",
   "execution_count": 19,
   "id": "af4db08b",
   "metadata": {},
   "outputs": [
    {
     "name": "stdout",
     "output_type": "stream",
     "text": [
      "A\n"
     ]
    }
   ],
   "source": [
    "print(y[0])"
   ]
  },
  {
   "cell_type": "code",
   "execution_count": 20,
   "id": "0880e768",
   "metadata": {},
   "outputs": [
    {
     "name": "stdout",
     "output_type": "stream",
     "text": [
      "T\n"
     ]
    }
   ],
   "source": [
    "print(z[0])"
   ]
  },
  {
   "cell_type": "code",
   "execution_count": 22,
   "id": "c6279ac5",
   "metadata": {},
   "outputs": [
    {
     "name": "stdout",
     "output_type": "stream",
     "text": [
      "CAT\n"
     ]
    }
   ],
   "source": [
    "print(x[1]+y[0]+z[0])"
   ]
  },
  {
   "cell_type": "code",
   "execution_count": 23,
   "id": "73865794",
   "metadata": {},
   "outputs": [],
   "source": [
    "x='DURGA'"
   ]
  },
  {
   "cell_type": "code",
   "execution_count": 24,
   "id": "2ef81d01",
   "metadata": {},
   "outputs": [],
   "source": [
    "y='DURGA'"
   ]
  },
  {
   "cell_type": "code",
   "execution_count": 27,
   "id": "953b39b0",
   "metadata": {},
   "outputs": [
    {
     "data": {
      "text/plain": [
       "True"
      ]
     },
     "execution_count": 27,
     "metadata": {},
     "output_type": "execute_result"
    }
   ],
   "source": [
    "x is y"
   ]
  },
  {
   "cell_type": "code",
   "execution_count": 29,
   "id": "29b7b078",
   "metadata": {},
   "outputs": [],
   "source": [
    "a1='10'"
   ]
  },
  {
   "cell_type": "code",
   "execution_count": 30,
   "id": "13f1c8a1",
   "metadata": {},
   "outputs": [],
   "source": [
    "b1=3"
   ]
  },
  {
   "cell_type": "code",
   "execution_count": 31,
   "id": "4c64b21a",
   "metadata": {},
   "outputs": [],
   "source": [
    "c1=a1*b1"
   ]
  },
  {
   "cell_type": "code",
   "execution_count": 32,
   "id": "5694c4f4",
   "metadata": {},
   "outputs": [
    {
     "data": {
      "text/plain": [
       "'101010'"
      ]
     },
     "execution_count": 32,
     "metadata": {},
     "output_type": "execute_result"
    }
   ],
   "source": [
    "c1"
   ]
  },
  {
   "cell_type": "code",
   "execution_count": 33,
   "id": "9f6acae7",
   "metadata": {},
   "outputs": [],
   "source": [
    "a2=10"
   ]
  },
  {
   "cell_type": "code",
   "execution_count": 34,
   "id": "7d3c1cdd",
   "metadata": {},
   "outputs": [],
   "source": [
    "b2=3"
   ]
  },
  {
   "cell_type": "code",
   "execution_count": 35,
   "id": "a248de6a",
   "metadata": {},
   "outputs": [],
   "source": [
    "c2=a2/b2"
   ]
  },
  {
   "cell_type": "code",
   "execution_count": 36,
   "id": "ab636edd",
   "metadata": {},
   "outputs": [
    {
     "data": {
      "text/plain": [
       "3.3333333333333335"
      ]
     },
     "execution_count": 36,
     "metadata": {},
     "output_type": "execute_result"
    }
   ],
   "source": [
    "c2"
   ]
  },
  {
   "cell_type": "code",
   "execution_count": 37,
   "id": "3185daaa",
   "metadata": {},
   "outputs": [],
   "source": [
    "a3=2.6"
   ]
  },
  {
   "cell_type": "code",
   "execution_count": 38,
   "id": "0f32a008",
   "metadata": {},
   "outputs": [],
   "source": [
    "b3=1"
   ]
  },
  {
   "cell_type": "code",
   "execution_count": 39,
   "id": "c0635e9a",
   "metadata": {},
   "outputs": [],
   "source": [
    "c3=a3/b3"
   ]
  },
  {
   "cell_type": "code",
   "execution_count": 40,
   "id": "765bdae0",
   "metadata": {},
   "outputs": [
    {
     "data": {
      "text/plain": [
       "2.6"
      ]
     },
     "execution_count": 40,
     "metadata": {},
     "output_type": "execute_result"
    }
   ],
   "source": [
    "c3"
   ]
  },
  {
   "cell_type": "code",
   "execution_count": 41,
   "id": "5f49cae1",
   "metadata": {},
   "outputs": [
    {
     "data": {
      "text/plain": [
       "str"
      ]
     },
     "execution_count": 41,
     "metadata": {},
     "output_type": "execute_result"
    }
   ],
   "source": [
    "type(c1)"
   ]
  },
  {
   "cell_type": "code",
   "execution_count": 42,
   "id": "6b7c9e93",
   "metadata": {},
   "outputs": [
    {
     "data": {
      "text/plain": [
       "float"
      ]
     },
     "execution_count": 42,
     "metadata": {},
     "output_type": "execute_result"
    }
   ],
   "source": [
    "type(c2)"
   ]
  },
  {
   "cell_type": "code",
   "execution_count": 43,
   "id": "b439952a",
   "metadata": {},
   "outputs": [
    {
     "data": {
      "text/plain": [
       "float"
      ]
     },
     "execution_count": 43,
     "metadata": {},
     "output_type": "execute_result"
    }
   ],
   "source": [
    "type(c3)"
   ]
  },
  {
   "cell_type": "code",
   "execution_count": 44,
   "id": "89e133cc",
   "metadata": {},
   "outputs": [
    {
     "data": {
      "text/plain": [
       "3"
      ]
     },
     "execution_count": 44,
     "metadata": {},
     "output_type": "execute_result"
    }
   ],
   "source": [
    "13//4"
   ]
  },
  {
   "cell_type": "code",
   "execution_count": 45,
   "id": "045c3648",
   "metadata": {},
   "outputs": [
    {
     "data": {
      "text/plain": [
       "3.6666666666666665"
      ]
     },
     "execution_count": 45,
     "metadata": {},
     "output_type": "execute_result"
    }
   ],
   "source": [
    "11/3"
   ]
  },
  {
   "cell_type": "code",
   "execution_count": 46,
   "id": "b620b54a",
   "metadata": {},
   "outputs": [
    {
     "data": {
      "text/plain": [
       "3"
      ]
     },
     "execution_count": 46,
     "metadata": {},
     "output_type": "execute_result"
    }
   ],
   "source": [
    "3**1"
   ]
  },
  {
   "cell_type": "code",
   "execution_count": 47,
   "id": "2f537b1e",
   "metadata": {},
   "outputs": [
    {
     "data": {
      "text/plain": [
       "3"
      ]
     },
     "execution_count": 47,
     "metadata": {},
     "output_type": "execute_result"
    }
   ],
   "source": [
    "23%5"
   ]
  },
  {
   "cell_type": "code",
   "execution_count": 48,
   "id": "260fdd56",
   "metadata": {},
   "outputs": [],
   "source": [
    "n1=[10,20,30,40,50]"
   ]
  },
  {
   "cell_type": "code",
   "execution_count": 49,
   "id": "c64353b2",
   "metadata": {},
   "outputs": [],
   "source": [
    "n2=[10,20,30,40,50]"
   ]
  },
  {
   "cell_type": "code",
   "execution_count": 50,
   "id": "76d9f436",
   "metadata": {},
   "outputs": [
    {
     "name": "stdout",
     "output_type": "stream",
     "text": [
      "False\n"
     ]
    }
   ],
   "source": [
    "print(n1 is n2)"
   ]
  },
  {
   "cell_type": "code",
   "execution_count": 51,
   "id": "8f5ec82b",
   "metadata": {},
   "outputs": [
    {
     "name": "stdout",
     "output_type": "stream",
     "text": [
      "True\n"
     ]
    }
   ],
   "source": [
    "print(n1==n2)"
   ]
  },
  {
   "cell_type": "code",
   "execution_count": 52,
   "id": "3db6b3cc",
   "metadata": {},
   "outputs": [],
   "source": [
    "a=1"
   ]
  },
  {
   "cell_type": "code",
   "execution_count": 53,
   "id": "d566a77c",
   "metadata": {},
   "outputs": [],
   "source": [
    "b=3"
   ]
  },
  {
   "cell_type": "code",
   "execution_count": 54,
   "id": "27bf68bd",
   "metadata": {},
   "outputs": [],
   "source": [
    "c=5"
   ]
  },
  {
   "cell_type": "code",
   "execution_count": 55,
   "id": "25932f95",
   "metadata": {},
   "outputs": [],
   "source": [
    "d=7"
   ]
  },
  {
   "cell_type": "code",
   "execution_count": 57,
   "id": "9c71caef",
   "metadata": {},
   "outputs": [],
   "source": [
    "c=a-b//d"
   ]
  },
  {
   "cell_type": "code",
   "execution_count": 58,
   "id": "6b39892b",
   "metadata": {},
   "outputs": [
    {
     "data": {
      "text/plain": [
       "1"
      ]
     },
     "execution_count": 58,
     "metadata": {},
     "output_type": "execute_result"
    }
   ],
   "source": [
    "c"
   ]
  },
  {
   "cell_type": "code",
   "execution_count": 59,
   "id": "9dd2e583",
   "metadata": {},
   "outputs": [],
   "source": [
    "c=a**d-1"
   ]
  },
  {
   "cell_type": "code",
   "execution_count": 60,
   "id": "15708fc0",
   "metadata": {},
   "outputs": [
    {
     "data": {
      "text/plain": [
       "0"
      ]
     },
     "execution_count": 60,
     "metadata": {},
     "output_type": "execute_result"
    }
   ],
   "source": [
    "c"
   ]
  },
  {
   "cell_type": "code",
   "execution_count": 61,
   "id": "f3115bbc",
   "metadata": {},
   "outputs": [],
   "source": [
    "s='AB CD'"
   ]
  },
  {
   "cell_type": "code",
   "execution_count": 62,
   "id": "8af0bdde",
   "metadata": {},
   "outputs": [],
   "source": [
    "list=list(s)"
   ]
  },
  {
   "cell_type": "code",
   "execution_count": 64,
   "id": "c7b0597c",
   "metadata": {},
   "outputs": [],
   "source": [
    "list.append('EF')"
   ]
  },
  {
   "cell_type": "code",
   "execution_count": 65,
   "id": "544686e9",
   "metadata": {},
   "outputs": [
    {
     "name": "stdout",
     "output_type": "stream",
     "text": [
      "['A', 'B', ' ', 'C', 'D', 'AB CD', 'EF']\n"
     ]
    }
   ],
   "source": [
    "print(list)"
   ]
  },
  {
   "cell_type": "code",
   "execution_count": 66,
   "id": "df321a74",
   "metadata": {},
   "outputs": [],
   "source": [
    "a=5"
   ]
  },
  {
   "cell_type": "code",
   "execution_count": 67,
   "id": "56d92656",
   "metadata": {},
   "outputs": [],
   "source": [
    "b=10"
   ]
  },
  {
   "cell_type": "code",
   "execution_count": 68,
   "id": "725e694b",
   "metadata": {},
   "outputs": [],
   "source": [
    "c=2"
   ]
  },
  {
   "cell_type": "code",
   "execution_count": 69,
   "id": "594de1c1",
   "metadata": {},
   "outputs": [],
   "source": [
    "d=True"
   ]
  },
  {
   "cell_type": "code",
   "execution_count": 70,
   "id": "fba8a302",
   "metadata": {},
   "outputs": [],
   "source": [
    "x=a+b*c"
   ]
  },
  {
   "cell_type": "code",
   "execution_count": 71,
   "id": "ed5ba047",
   "metadata": {},
   "outputs": [],
   "source": [
    "y=a=b/d"
   ]
  },
  {
   "cell_type": "code",
   "execution_count": 76,
   "id": "4f2ffaef",
   "metadata": {},
   "outputs": [
    {
     "name": "stdout",
     "output_type": "stream",
     "text": [
      "Valid\n"
     ]
    }
   ],
   "source": [
    "if x>y:\n",
    "    print('Valid')\n",
    "else:\n",
    "    print('invalid')"
   ]
  },
  {
   "cell_type": "code",
   "execution_count": 77,
   "id": "71a25fb8",
   "metadata": {},
   "outputs": [
    {
     "name": "stdout",
     "output_type": "stream",
     "text": [
      "invalid\n"
     ]
    }
   ],
   "source": [
    "if x<=y:\n",
    "    print('Valid')\n",
    "else:\n",
    "    print('invalid')"
   ]
  },
  {
   "cell_type": "code",
   "execution_count": null,
   "id": "70481131",
   "metadata": {},
   "outputs": [],
   "source": []
  }
 ],
 "metadata": {
  "kernelspec": {
   "display_name": "Python 3 (ipykernel)",
   "language": "python",
   "name": "python3"
  },
  "language_info": {
   "codemirror_mode": {
    "name": "ipython",
    "version": 3
   },
   "file_extension": ".py",
   "mimetype": "text/x-python",
   "name": "python",
   "nbconvert_exporter": "python",
   "pygments_lexer": "ipython3",
   "version": "3.9.7"
  }
 },
 "nbformat": 4,
 "nbformat_minor": 5
}
